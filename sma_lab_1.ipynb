{
 "cells": [
  {
   "cell_type": "markdown",
   "id": "75aa3f0a",
   "metadata": {},
   "source": [
    "### Name: Mukesh Jaikumar N\n",
    "### Rollno: 225229119"
   ]
  },
  {
   "cell_type": "code",
   "execution_count": 1,
   "id": "d1b4299e",
   "metadata": {},
   "outputs": [],
   "source": [
    "#importing libraries\n",
    "import networkx as nx"
   ]
  },
  {
   "cell_type": "code",
   "execution_count": 2,
   "id": "842d16df",
   "metadata": {},
   "outputs": [],
   "source": [
    "#creating instance\n",
    "g=nx.Graph()"
   ]
  },
  {
   "cell_type": "code",
   "execution_count": 3,
   "id": "60ab8fc8",
   "metadata": {},
   "outputs": [],
   "source": [
    "#adding node\n",
    "g.add_node('A')"
   ]
  },
  {
   "cell_type": "code",
   "execution_count": 4,
   "id": "3575c437",
   "metadata": {},
   "outputs": [
    {
     "name": "stdout",
     "output_type": "stream",
     "text": [
      "['A']\n"
     ]
    }
   ],
   "source": [
    "#retrieving node\n",
    "print(g.nodes)"
   ]
  },
  {
   "cell_type": "code",
   "execution_count": 5,
   "id": "1a108a89",
   "metadata": {},
   "outputs": [
    {
     "data": {
      "text/plain": [
       "NodeView(('A', 'B', 'C', 'D', 'E'))"
      ]
     },
     "execution_count": 5,
     "metadata": {},
     "output_type": "execute_result"
    }
   ],
   "source": [
    "#adding multiple nodes\n",
    "g.add_nodes_from(['B','C','D','E'])\n",
    "g.nodes"
   ]
  },
  {
   "cell_type": "code",
   "execution_count": 6,
   "id": "add5afd3",
   "metadata": {},
   "outputs": [],
   "source": [
    "#adding edges\n",
    "g.add_edge('A','B')"
   ]
  },
  {
   "cell_type": "code",
   "execution_count": 7,
   "id": "0bede6c4",
   "metadata": {},
   "outputs": [
    {
     "data": {
      "text/plain": [
       "EdgeView([('A', 'B')])"
      ]
     },
     "execution_count": 7,
     "metadata": {},
     "output_type": "execute_result"
    }
   ],
   "source": [
    "g.edges"
   ]
  },
  {
   "cell_type": "code",
   "execution_count": 8,
   "id": "e530f609",
   "metadata": {},
   "outputs": [],
   "source": [
    "g.add_edges_from([('B','D'),('A','C'),('C','D'),('D','E')])"
   ]
  },
  {
   "cell_type": "code",
   "execution_count": 9,
   "id": "1346ec9c",
   "metadata": {},
   "outputs": [
    {
     "data": {
      "text/plain": [
       "EdgeView([('A', 'B'), ('A', 'C'), ('B', 'D'), ('C', 'D'), ('D', 'E')])"
      ]
     },
     "execution_count": 9,
     "metadata": {},
     "output_type": "execute_result"
    }
   ],
   "source": [
    "g.edges"
   ]
  },
  {
   "cell_type": "code",
   "execution_count": 10,
   "id": "e3bf10e4",
   "metadata": {},
   "outputs": [],
   "source": [
    "#Drawing Graphs"
   ]
  },
  {
   "cell_type": "code",
   "execution_count": 11,
   "id": "3165b9a3",
   "metadata": {},
   "outputs": [
    {
     "data": {
      "image/png": "[encoded data removed]",
      "text/plain": [
       "<Figure size 432x288 with 1 Axes>"
      ]
     },
     "metadata": {},
     "output_type": "display_data"
    }
   ],
   "source": [
    "import matplotlib.pyplot as plt\n",
    "nx.draw(g)\n",
    "plt.show()"
   ]
  },
  {
   "cell_type": "code",
   "execution_count": 12,
   "id": "1d6a01fb",
   "metadata": {},
   "outputs": [
    {
     "data": {
      "text/plain": [
       "AdjacencyView({'A': {'B': {}, 'C': {}}, 'B': {'A': {}, 'D': {}}, 'C': {'A': {}, 'D': {}}, 'D': {'B': {}, 'C': {}, 'E': {}}, 'E': {'D': {}}})"
      ]
     },
     "execution_count": 12,
     "metadata": {},
     "output_type": "execute_result"
    }
   ],
   "source": [
    "g.adj"
   ]
  },
  {
   "cell_type": "code",
   "execution_count": 13,
   "id": "9a708f41",
   "metadata": {},
   "outputs": [
    {
     "data": {
      "text/plain": [
       "2"
      ]
     },
     "execution_count": 13,
     "metadata": {},
     "output_type": "execute_result"
    }
   ],
   "source": [
    "#degree of nodes\n",
    "g.degree('A')"
   ]
  },
  {
   "cell_type": "code",
   "execution_count": 15,
   "id": "ec3257be",
   "metadata": {},
   "outputs": [
    {
     "data": {
      "text/plain": [
       "3"
      ]
     },
     "execution_count": 15,
     "metadata": {},
     "output_type": "execute_result"
    }
   ],
   "source": [
    "g.degree('D')"
   ]
  },
  {
   "cell_type": "code",
   "execution_count": null,
   "id": "9d6bd96d",
   "metadata": {},
   "outputs": [],
   "source": []
  }
 ],
 "metadata": {
  "kernelspec": {
   "display_name": "Python 3 (ipykernel)",
   "language": "python",
   "name": "python3"
  },
  "language_info": {
   "codemirror_mode": {
    "name": "ipython",
    "version": 3
   },
   "file_extension": ".py",
   "mimetype": "text/x-python",
   "name": "python",
   "nbconvert_exporter": "python",
   "pygments_lexer": "ipython3",
   "version": "3.9.12"
  }
 },
 "nbformat": 4,
 "nbformat_minor": 5
}
