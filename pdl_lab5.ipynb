{
 "cells": [
  {
   "cell_type": "markdown",
   "metadata": {
    "id": "1qhqr8kTQJWm"
   },
   "source": [
    "# Mukesh Jaikumar R.N\n",
    "# 225229119\n",
    "# PDL LAB 05\n"
   ]
  },
  {
   "cell_type": "code",
   "execution_count": null,
   "metadata": {
    "colab": {
     "base_uri": "https://localhost:8080/"
    },
    "id": "t2PmDpcSCOMx",
    "outputId": "3a004f8a-2e4e-4177-d00b-a77c6430b6bb"
   },
   "outputs": [
    {
     "name": "stdout",
     "output_type": "stream",
     "text": [
      "Mounted at /content/drive\n"
     ]
    }
   ],
   "source": [
    "from google.colab import drive\n",
    "drive.mount('/content/drive')"
   ]
  },
  {
   "cell_type": "code",
   "execution_count": null,
   "metadata": {
    "id": "QzyZssZguuaX"
   },
   "outputs": [],
   "source": [
    "import pandas as pd\n",
    "import nltk\n",
    "from sklearn.model_selection import train_test_split\n",
    "import re"
   ]
  },
  {
   "cell_type": "code",
   "execution_count": null,
   "metadata": {
    "id": "msaYzx6Ts0RS"
   },
   "outputs": [],
   "source": [
    "df = pd.read_csv(\"/content/drive/MyDrive/motivational_vs_depression_quotes.csv\")"
   ]
  },
  {
   "cell_type": "code",
   "execution_count": null,
   "metadata": {
    "colab": {
     "base_uri": "https://localhost:8080/",
     "height": 423
    },
    "id": "14Oi10uas0UB",
    "outputId": "d36c5e6d-63ab-4aa1-99d5-b636f491765d"
   },
   "outputs": [
    {
     "data": {
      "text/html": [
       "\n",
       "\n",
       "  <div id=\"df-3d4f9443-dbf0-431c-a378-9e906c3db4e3\">\n",
       "    <div class=\"colab-df-container\">\n",
       "      <div>\n",
       "<style scoped>\n",
       "    .dataframe tbody tr th:only-of-type {\n",
       "        vertical-align: middle;\n",
       "    }\n",
       "\n",
       "    .dataframe tbody tr th {\n",
       "        vertical-align: top;\n",
       "    }\n",
       "\n",
       "    .dataframe thead th {\n",
       "        text-align: right;\n",
       "    }\n",
       "</style>\n",
       "<table border=\"1\" class=\"dataframe\">\n",
       "  <thead>\n",
       "    <tr style=\"text-align: right;\">\n",
       "      <th></th>\n",
       "      <th>quotes</th>\n",
       "      <th>label</th>\n",
       "    </tr>\n",
       "  </thead>\n",
       "  <tbody>\n",
       "    <tr>\n",
       "      <th>0</th>\n",
       "      <td>Age is an issue of mind over matter. If you do...</td>\n",
       "      <td>1</td>\n",
       "    </tr>\n",
       "    <tr>\n",
       "      <th>1</th>\n",
       "      <td>Anyone who stops learning is old, whether at t...</td>\n",
       "      <td>1</td>\n",
       "    </tr>\n",
       "    <tr>\n",
       "      <th>2</th>\n",
       "      <td>Wrinkles should merely indicate where smiles h...</td>\n",
       "      <td>1</td>\n",
       "    </tr>\n",
       "    <tr>\n",
       "      <th>3</th>\n",
       "      <td>True terror is to wake up one morning and disc...</td>\n",
       "      <td>1</td>\n",
       "    </tr>\n",
       "    <tr>\n",
       "      <th>4</th>\n",
       "      <td>A diplomat is a man who always remembers a wom...</td>\n",
       "      <td>1</td>\n",
       "    </tr>\n",
       "    <tr>\n",
       "      <th>...</th>\n",
       "      <td>...</td>\n",
       "      <td>...</td>\n",
       "    </tr>\n",
       "    <tr>\n",
       "      <th>554</th>\n",
       "      <td>Shakespeare himself never described this tortu...</td>\n",
       "      <td>0</td>\n",
       "    </tr>\n",
       "    <tr>\n",
       "      <th>555</th>\n",
       "      <td>I had stopped composing; my mind seemed to bec...</td>\n",
       "      <td>0</td>\n",
       "    </tr>\n",
       "    <tr>\n",
       "      <th>556</th>\n",
       "      <td>I did nothing.</td>\n",
       "      <td>0</td>\n",
       "    </tr>\n",
       "    <tr>\n",
       "      <th>557</th>\n",
       "      <td>One power was left to me-to suffer.</td>\n",
       "      <td>0</td>\n",
       "    </tr>\n",
       "    <tr>\n",
       "      <th>558</th>\n",
       "      <td>NaN</td>\n",
       "      <td>0</td>\n",
       "    </tr>\n",
       "  </tbody>\n",
       "</table>\n",
       "<p>559 rows × 2 columns</p>\n",
       "</div>\n",
       "      <button class=\"colab-df-convert\" onclick=\"convertToInteractive('df-3d4f9443-dbf0-431c-a378-9e906c3db4e3')\"\n",
       "              title=\"Convert this dataframe to an interactive table.\"\n",
       "              style=\"display:none;\">\n",
       "\n",
       "  <svg xmlns=\"http://www.w3.org/2000/svg\" height=\"24px\"viewBox=\"0 0 24 24\"\n",
       "       width=\"24px\">\n",
       "    <path d=\"M0 0h24v24H0V0z\" fill=\"none\"/>\n",
       "    <path d=\"M18.56 5.44l.94 2.06.94-2.06 2.06-.94-2.06-.94-.94-2.06-.94 2.06-2.06.94zm-11 1L8.5 8.5l.94-2.06 2.06-.94-2.06-.94L8.5 2.5l-.94 2.06-2.06.94zm10 10l.94 2.06.94-2.06 2.06-.94-2.06-.94-.94-2.06-.94 2.06-2.06.94z\"/><path d=\"M17.41 7.96l-1.37-1.37c-.4-.4-.92-.59-1.43-.59-.52 0-1.04.2-1.43.59L10.3 9.45l-7.72 7.72c-.78.78-.78 2.05 0 2.83L4 21.41c.39.39.9.59 1.41.59.51 0 1.02-.2 1.41-.59l7.78-7.78 2.81-2.81c.8-.78.8-2.07 0-2.86zM5.41 20L4 18.59l7.72-7.72 1.47 1.35L5.41 20z\"/>\n",
       "  </svg>\n",
       "      </button>\n",
       "\n",
       "\n",
       "\n",
       "    <div id=\"df-6f4541ba-bbe4-4e2a-b5c3-07a4b04074e8\">\n",
       "      <button class=\"colab-df-quickchart\" onclick=\"quickchart('df-6f4541ba-bbe4-4e2a-b5c3-07a4b04074e8')\"\n",
       "              title=\"Suggest charts.\"\n",
       "              style=\"display:none;\">\n",
       "\n",
       "<svg xmlns=\"http://www.w3.org/2000/svg\" height=\"24px\"viewBox=\"0 0 24 24\"\n",
       "     width=\"24px\">\n",
       "    <g>\n",
       "        <path d=\"M19 3H5c-1.1 0-2 .9-2 2v14c0 1.1.9 2 2 2h14c1.1 0 2-.9 2-2V5c0-1.1-.9-2-2-2zM9 17H7v-7h2v7zm4 0h-2V7h2v10zm4 0h-2v-4h2v4z\"/>\n",
       "    </g>\n",
       "</svg>\n",
       "      </button>\n",
       "    </div>\n",
       "\n",
       "<style>\n",
       "  .colab-df-quickchart {\n",
       "    background-color: #E8F0FE;\n",
       "    border: none;\n",
       "    border-radius: 50%;\n",
       "    cursor: pointer;\n",
       "    display: none;\n",
       "    fill: #1967D2;\n",
       "    height: 32px;\n",
       "    padding: 0 0 0 0;\n",
       "    width: 32px;\n",
       "  }\n",
       "\n",
       "  .colab-df-quickchart:hover {\n",
       "    background-color: #E2EBFA;\n",
       "    box-shadow: 0px 1px 2px rgba(60, 64, 67, 0.3), 0px 1px 3px 1px rgba(60, 64, 67, 0.15);\n",
       "    fill: #174EA6;\n",
       "  }\n",
       "\n",
       "  [theme=dark] .colab-df-quickchart {\n",
       "    background-color: #3B4455;\n",
       "    fill: #D2E3FC;\n",
       "  }\n",
       "\n",
       "  [theme=dark] .colab-df-quickchart:hover {\n",
       "    background-color: #434B5C;\n",
       "    box-shadow: 0px 1px 3px 1px rgba(0, 0, 0, 0.15);\n",
       "    filter: drop-shadow(0px 1px 2px rgba(0, 0, 0, 0.3));\n",
       "    fill: #FFFFFF;\n",
       "  }\n",
       "</style>\n",
       "\n",
       "    <script>\n",
       "      async function quickchart(key) {\n",
       "        const containerElement = document.querySelector('#' + key);\n",
       "        const charts = await google.colab.kernel.invokeFunction(\n",
       "            'suggestCharts', [key], {});\n",
       "      }\n",
       "    </script>\n",
       "\n",
       "      <script>\n",
       "\n",
       "function displayQuickchartButton(domScope) {\n",
       "  let quickchartButtonEl =\n",
       "    domScope.querySelector('#df-6f4541ba-bbe4-4e2a-b5c3-07a4b04074e8 button.colab-df-quickchart');\n",
       "  quickchartButtonEl.style.display =\n",
       "    google.colab.kernel.accessAllowed ? 'block' : 'none';\n",
       "}\n",
       "\n",
       "        displayQuickchartButton(document);\n",
       "      </script>\n",
       "      <style>\n",
       "    .colab-df-container {\n",
       "      display:flex;\n",
       "      flex-wrap:wrap;\n",
       "      gap: 12px;\n",
       "    }\n",
       "\n",
       "    .colab-df-convert {\n",
       "      background-color: #E8F0FE;\n",
       "      border: none;\n",
       "      border-radius: 50%;\n",
       "      cursor: pointer;\n",
       "      display: none;\n",
       "      fill: #1967D2;\n",
       "      height: 32px;\n",
       "      padding: 0 0 0 0;\n",
       "      width: 32px;\n",
       "    }\n",
       "\n",
       "    .colab-df-convert:hover {\n",
       "      background-color: #E2EBFA;\n",
       "      box-shadow: 0px 1px 2px rgba(60, 64, 67, 0.3), 0px 1px 3px 1px rgba(60, 64, 67, 0.15);\n",
       "      fill: #174EA6;\n",
       "    }\n",
       "\n",
       "    [theme=dark] .colab-df-convert {\n",
       "      background-color: #3B4455;\n",
       "      fill: #D2E3FC;\n",
       "    }\n",
       "\n",
       "    [theme=dark] .colab-df-convert:hover {\n",
       "      background-color: #434B5C;\n",
       "      box-shadow: 0px 1px 3px 1px rgba(0, 0, 0, 0.15);\n",
       "      filter: drop-shadow(0px 1px 2px rgba(0, 0, 0, 0.3));\n",
       "      fill: #FFFFFF;\n",
       "    }\n",
       "  </style>\n",
       "\n",
       "      <script>\n",
       "        const buttonEl =\n",
       "          document.querySelector('#df-3d4f9443-dbf0-431c-a378-9e906c3db4e3 button.colab-df-convert');\n",
       "        buttonEl.style.display =\n",
       "          google.colab.kernel.accessAllowed ? 'block' : 'none';\n",
       "\n",
       "        async function convertToInteractive(key) {\n",
       "          const element = document.querySelector('#df-3d4f9443-dbf0-431c-a378-9e906c3db4e3');\n",
       "          const dataTable =\n",
       "            await google.colab.kernel.invokeFunction('convertToInteractive',\n",
       "                                                     [key], {});\n",
       "          if (!dataTable) return;\n",
       "\n",
       "          const docLinkHtml = 'Like what you see? Visit the ' +\n",
       "            '<a target=\"_blank\" href=https://colab.research.google.com/notebooks/data_table.ipynb>data table notebook</a>'\n",
       "            + ' to learn more about interactive tables.';\n",
       "          element.innerHTML = '';\n",
       "          dataTable['output_type'] = 'display_data';\n",
       "          await google.colab.output.renderOutput(dataTable, element);\n",
       "          const docLink = document.createElement('div');\n",
       "          docLink.innerHTML = docLinkHtml;\n",
       "          element.appendChild(docLink);\n",
       "        }\n",
       "      </script>\n",
       "    </div>\n",
       "  </div>\n"
      ],
      "text/plain": [
       "                                                quotes  label\n",
       "0    Age is an issue of mind over matter. If you do...      1\n",
       "1    Anyone who stops learning is old, whether at t...      1\n",
       "2    Wrinkles should merely indicate where smiles h...      1\n",
       "3    True terror is to wake up one morning and disc...      1\n",
       "4    A diplomat is a man who always remembers a wom...      1\n",
       "..                                                 ...    ...\n",
       "554  Shakespeare himself never described this tortu...      0\n",
       "555  I had stopped composing; my mind seemed to bec...      0\n",
       "556                                     I did nothing.      0\n",
       "557                One power was left to me-to suffer.      0\n",
       "558                                                NaN      0\n",
       "\n",
       "[559 rows x 2 columns]"
      ]
     },
     "execution_count": 4,
     "metadata": {},
     "output_type": "execute_result"
    }
   ],
   "source": [
    "df"
   ]
  },
  {
   "cell_type": "code",
   "execution_count": null,
   "metadata": {
    "colab": {
     "base_uri": "https://localhost:8080/"
    },
    "id": "3skK2di9s0Xw",
    "outputId": "5539686f-9cd0-46ac-cb4e-615e2d0b9db9"
   },
   "outputs": [
    {
     "data": {
      "text/plain": [
       "quotes    1\n",
       "label     0\n",
       "dtype: int64"
      ]
     },
     "execution_count": 5,
     "metadata": {},
     "output_type": "execute_result"
    }
   ],
   "source": [
    "df.isna().sum()"
   ]
  },
  {
   "cell_type": "code",
   "execution_count": null,
   "metadata": {
    "id": "Humxx60cs0Z7"
   },
   "outputs": [],
   "source": [
    "df = df.dropna()"
   ]
  },
  {
   "cell_type": "code",
   "execution_count": null,
   "metadata": {
    "colab": {
     "base_uri": "https://localhost:8080/",
     "height": 423
    },
    "id": "ola3XBm9s0gT",
    "outputId": "526f12f7-e6ed-4f5f-d390-f27ab6ff5994"
   },
   "outputs": [
    {
     "data": {
      "text/html": [
       "\n",
       "\n",
       "  <div id=\"df-7c4d9890-4349-474a-9039-a8d8f94c4370\">\n",
       "    <div class=\"colab-df-container\">\n",
       "      <div>\n",
       "<style scoped>\n",
       "    .dataframe tbody tr th:only-of-type {\n",
       "        vertical-align: middle;\n",
       "    }\n",
       "\n",
       "    .dataframe tbody tr th {\n",
       "        vertical-align: top;\n",
       "    }\n",
       "\n",
       "    .dataframe thead th {\n",
       "        text-align: right;\n",
       "    }\n",
       "</style>\n",
       "<table border=\"1\" class=\"dataframe\">\n",
       "  <thead>\n",
       "    <tr style=\"text-align: right;\">\n",
       "      <th></th>\n",
       "      <th>quotes</th>\n",
       "      <th>label</th>\n",
       "    </tr>\n",
       "  </thead>\n",
       "  <tbody>\n",
       "    <tr>\n",
       "      <th>0</th>\n",
       "      <td>Age is an issue of mind over matter. If you do...</td>\n",
       "      <td>1</td>\n",
       "    </tr>\n",
       "    <tr>\n",
       "      <th>1</th>\n",
       "      <td>Anyone who stops learning is old, whether at t...</td>\n",
       "      <td>1</td>\n",
       "    </tr>\n",
       "    <tr>\n",
       "      <th>2</th>\n",
       "      <td>Wrinkles should merely indicate where smiles h...</td>\n",
       "      <td>1</td>\n",
       "    </tr>\n",
       "    <tr>\n",
       "      <th>3</th>\n",
       "      <td>True terror is to wake up one morning and disc...</td>\n",
       "      <td>1</td>\n",
       "    </tr>\n",
       "    <tr>\n",
       "      <th>4</th>\n",
       "      <td>A diplomat is a man who always remembers a wom...</td>\n",
       "      <td>1</td>\n",
       "    </tr>\n",
       "    <tr>\n",
       "      <th>...</th>\n",
       "      <td>...</td>\n",
       "      <td>...</td>\n",
       "    </tr>\n",
       "    <tr>\n",
       "      <th>553</th>\n",
       "      <td>It is difficult to put into words what I suffe...</td>\n",
       "      <td>0</td>\n",
       "    </tr>\n",
       "    <tr>\n",
       "      <th>554</th>\n",
       "      <td>Shakespeare himself never described this tortu...</td>\n",
       "      <td>0</td>\n",
       "    </tr>\n",
       "    <tr>\n",
       "      <th>555</th>\n",
       "      <td>I had stopped composing; my mind seemed to bec...</td>\n",
       "      <td>0</td>\n",
       "    </tr>\n",
       "    <tr>\n",
       "      <th>556</th>\n",
       "      <td>I did nothing.</td>\n",
       "      <td>0</td>\n",
       "    </tr>\n",
       "    <tr>\n",
       "      <th>557</th>\n",
       "      <td>One power was left to me-to suffer.</td>\n",
       "      <td>0</td>\n",
       "    </tr>\n",
       "  </tbody>\n",
       "</table>\n",
       "<p>558 rows × 2 columns</p>\n",
       "</div>\n",
       "      <button class=\"colab-df-convert\" onclick=\"convertToInteractive('df-7c4d9890-4349-474a-9039-a8d8f94c4370')\"\n",
       "              title=\"Convert this dataframe to an interactive table.\"\n",
       "              style=\"display:none;\">\n",
       "\n",
       "  <svg xmlns=\"http://www.w3.org/2000/svg\" height=\"24px\"viewBox=\"0 0 24 24\"\n",
       "       width=\"24px\">\n",
       "    <path d=\"M0 0h24v24H0V0z\" fill=\"none\"/>\n",
       "    <path d=\"M18.56 5.44l.94 2.06.94-2.06 2.06-.94-2.06-.94-.94-2.06-.94 2.06-2.06.94zm-11 1L8.5 8.5l.94-2.06 2.06-.94-2.06-.94L8.5 2.5l-.94 2.06-2.06.94zm10 10l.94 2.06.94-2.06 2.06-.94-2.06-.94-.94-2.06-.94 2.06-2.06.94z\"/><path d=\"M17.41 7.96l-1.37-1.37c-.4-.4-.92-.59-1.43-.59-.52 0-1.04.2-1.43.59L10.3 9.45l-7.72 7.72c-.78.78-.78 2.05 0 2.83L4 21.41c.39.39.9.59 1.41.59.51 0 1.02-.2 1.41-.59l7.78-7.78 2.81-2.81c.8-.78.8-2.07 0-2.86zM5.41 20L4 18.59l7.72-7.72 1.47 1.35L5.41 20z\"/>\n",
       "  </svg>\n",
       "      </button>\n",
       "\n",
       "\n",
       "\n",
       "    <div id=\"df-b21d41d9-7a09-49b2-9126-b66b1f418851\">\n",
       "      <button class=\"colab-df-quickchart\" onclick=\"quickchart('df-b21d41d9-7a09-49b2-9126-b66b1f418851')\"\n",
       "              title=\"Suggest charts.\"\n",
       "              style=\"display:none;\">\n",
       "\n",
       "<svg xmlns=\"http://www.w3.org/2000/svg\" height=\"24px\"viewBox=\"0 0 24 24\"\n",
       "     width=\"24px\">\n",
       "    <g>\n",
       "        <path d=\"M19 3H5c-1.1 0-2 .9-2 2v14c0 1.1.9 2 2 2h14c1.1 0 2-.9 2-2V5c0-1.1-.9-2-2-2zM9 17H7v-7h2v7zm4 0h-2V7h2v10zm4 0h-2v-4h2v4z\"/>\n",
       "    </g>\n",
       "</svg>\n",
       "      </button>\n",
       "    </div>\n",
       "\n",
       "<style>\n",
       "  .colab-df-quickchart {\n",
       "    background-color: #E8F0FE;\n",
       "    border: none;\n",
       "    border-radius: 50%;\n",
       "    cursor: pointer;\n",
       "    display: none;\n",
       "    fill: #1967D2;\n",
       "    height: 32px;\n",
       "    padding: 0 0 0 0;\n",
       "    width: 32px;\n",
       "  }\n",
       "\n",
       "  .colab-df-quickchart:hover {\n",
       "    background-color: #E2EBFA;\n",
       "    box-shadow: 0px 1px 2px rgba(60, 64, 67, 0.3), 0px 1px 3px 1px rgba(60, 64, 67, 0.15);\n",
       "    fill: #174EA6;\n",
       "  }\n",
       "\n",
       "  [theme=dark] .colab-df-quickchart {\n",
       "    background-color: #3B4455;\n",
       "    fill: #D2E3FC;\n",
       "  }\n",
       "\n",
       "  [theme=dark] .colab-df-quickchart:hover {\n",
       "    background-color: #434B5C;\n",
       "    box-shadow: 0px 1px 3px 1px rgba(0, 0, 0, 0.15);\n",
       "    filter: drop-shadow(0px 1px 2px rgba(0, 0, 0, 0.3));\n",
       "    fill: #FFFFFF;\n",
       "  }\n",
       "</style>\n",
       "\n",
       "    <script>\n",
       "      async function quickchart(key) {\n",
       "        const containerElement = document.querySelector('#' + key);\n",
       "        const charts = await google.colab.kernel.invokeFunction(\n",
       "            'suggestCharts', [key], {});\n",
       "      }\n",
       "    </script>\n",
       "\n",
       "      <script>\n",
       "\n",
       "function displayQuickchartButton(domScope) {\n",
       "  let quickchartButtonEl =\n",
       "    domScope.querySelector('#df-b21d41d9-7a09-49b2-9126-b66b1f418851 button.colab-df-quickchart');\n",
       "  quickchartButtonEl.style.display =\n",
       "    google.colab.kernel.accessAllowed ? 'block' : 'none';\n",
       "}\n",
       "\n",
       "        displayQuickchartButton(document);\n",
       "      </script>\n",
       "      <style>\n",
       "    .colab-df-container {\n",
       "      display:flex;\n",
       "      flex-wrap:wrap;\n",
       "      gap: 12px;\n",
       "    }\n",
       "\n",
       "    .colab-df-convert {\n",
       "      background-color: #E8F0FE;\n",
       "      border: none;\n",
       "      border-radius: 50%;\n",
       "      cursor: pointer;\n",
       "      display: none;\n",
       "      fill: #1967D2;\n",
       "      height: 32px;\n",
       "      padding: 0 0 0 0;\n",
       "      width: 32px;\n",
       "    }\n",
       "\n",
       "    .colab-df-convert:hover {\n",
       "      background-color: #E2EBFA;\n",
       "      box-shadow: 0px 1px 2px rgba(60, 64, 67, 0.3), 0px 1px 3px 1px rgba(60, 64, 67, 0.15);\n",
       "      fill: #174EA6;\n",
       "    }\n",
       "\n",
       "    [theme=dark] .colab-df-convert {\n",
       "      background-color: #3B4455;\n",
       "      fill: #D2E3FC;\n",
       "    }\n",
       "\n",
       "    [theme=dark] .colab-df-convert:hover {\n",
       "      background-color: #434B5C;\n",
       "      box-shadow: 0px 1px 3px 1px rgba(0, 0, 0, 0.15);\n",
       "      filter: drop-shadow(0px 1px 2px rgba(0, 0, 0, 0.3));\n",
       "      fill: #FFFFFF;\n",
       "    }\n",
       "  </style>\n",
       "\n",
       "      <script>\n",
       "        const buttonEl =\n",
       "          document.querySelector('#df-7c4d9890-4349-474a-9039-a8d8f94c4370 button.colab-df-convert');\n",
       "        buttonEl.style.display =\n",
       "          google.colab.kernel.accessAllowed ? 'block' : 'none';\n",
       "\n",
       "        async function convertToInteractive(key) {\n",
       "          const element = document.querySelector('#df-7c4d9890-4349-474a-9039-a8d8f94c4370');\n",
       "          const dataTable =\n",
       "            await google.colab.kernel.invokeFunction('convertToInteractive',\n",
       "                                                     [key], {});\n",
       "          if (!dataTable) return;\n",
       "\n",
       "          const docLinkHtml = 'Like what you see? Visit the ' +\n",
       "            '<a target=\"_blank\" href=https://colab.research.google.com/notebooks/data_table.ipynb>data table notebook</a>'\n",
       "            + ' to learn more about interactive tables.';\n",
       "          element.innerHTML = '';\n",
       "          dataTable['output_type'] = 'display_data';\n",
       "          await google.colab.output.renderOutput(dataTable, element);\n",
       "          const docLink = document.createElement('div');\n",
       "          docLink.innerHTML = docLinkHtml;\n",
       "          element.appendChild(docLink);\n",
       "        }\n",
       "      </script>\n",
       "    </div>\n",
       "  </div>\n"
      ],
      "text/plain": [
       "                                                quotes  label\n",
       "0    Age is an issue of mind over matter. If you do...      1\n",
       "1    Anyone who stops learning is old, whether at t...      1\n",
       "2    Wrinkles should merely indicate where smiles h...      1\n",
       "3    True terror is to wake up one morning and disc...      1\n",
       "4    A diplomat is a man who always remembers a wom...      1\n",
       "..                                                 ...    ...\n",
       "553  It is difficult to put into words what I suffe...      0\n",
       "554  Shakespeare himself never described this tortu...      0\n",
       "555  I had stopped composing; my mind seemed to bec...      0\n",
       "556                                     I did nothing.      0\n",
       "557                One power was left to me-to suffer.      0\n",
       "\n",
       "[558 rows x 2 columns]"
      ]
     },
     "execution_count": 7,
     "metadata": {},
     "output_type": "execute_result"
    }
   ],
   "source": [
    "df"
   ]
  },
  {
   "cell_type": "code",
   "execution_count": null,
   "metadata": {
    "colab": {
     "base_uri": "https://localhost:8080/"
    },
    "id": "ZRNcNsrrs0mi",
    "outputId": "1f9a01d6-6668-45b5-fd09-aefc2748294d"
   },
   "outputs": [
    {
     "data": {
      "text/plain": [
       "(558, 2)"
      ]
     },
     "execution_count": 8,
     "metadata": {},
     "output_type": "execute_result"
    }
   ],
   "source": [
    "df.shape"
   ]
  },
  {
   "cell_type": "code",
   "execution_count": null,
   "metadata": {
    "colab": {
     "base_uri": "https://localhost:8080/"
    },
    "id": "2brKis-oyWq0",
    "outputId": "a1d54a7a-8b90-47ca-da81-6c6d42c6fca4"
   },
   "outputs": [
    {
     "name": "stdout",
     "output_type": "stream",
     "text": [
      "<class 'pandas.core.frame.DataFrame'>\n",
      "Int64Index: 558 entries, 0 to 557\n",
      "Data columns (total 2 columns):\n",
      " #   Column  Non-Null Count  Dtype \n",
      "---  ------  --------------  ----- \n",
      " 0   quotes  558 non-null    object\n",
      " 1   label   558 non-null    int64 \n",
      "dtypes: int64(1), object(1)\n",
      "memory usage: 13.1+ KB\n"
     ]
    }
   ],
   "source": [
    "df.info()"
   ]
  },
  {
   "cell_type": "code",
   "execution_count": null,
   "metadata": {
    "colab": {
     "base_uri": "https://localhost:8080/"
    },
    "id": "HZHizYZ3s0nP",
    "outputId": "70927412-81d3-49ad-a096-5584820c0159"
   },
   "outputs": [
    {
     "data": {
      "text/plain": [
       "1    280\n",
       "0    278\n",
       "Name: label, dtype: int64"
      ]
     },
     "execution_count": 10,
     "metadata": {},
     "output_type": "execute_result"
    }
   ],
   "source": [
    "df['label'].value_counts()"
   ]
  },
  {
   "cell_type": "code",
   "execution_count": null,
   "metadata": {
    "colab": {
     "base_uri": "https://localhost:8080/"
    },
    "id": "FF62x6dVs0oM",
    "outputId": "5df28968-0aa1-493b-e257-0f0a0c1d1e44"
   },
   "outputs": [
    {
     "name": "stderr",
     "output_type": "stream",
     "text": [
      "[nltk_data] Downloading package stopwords to /root/nltk_data...\n",
      "[nltk_data]   Unzipping corpora/stopwords.zip.\n",
      "[nltk_data] Downloading package omw-1.4 to /root/nltk_data...\n",
      "[nltk_data] Downloading package wordnet to /root/nltk_data...\n",
      "[nltk_data] Downloading package punkt to /root/nltk_data...\n",
      "[nltk_data]   Unzipping tokenizers/punkt.zip.\n"
     ]
    }
   ],
   "source": [
    "# downloading nltk dependencies\n",
    "nltk.download('stopwords')\n",
    "nltk.download('omw-1.4')\n",
    "nltk.download('wordnet')\n",
    "\n",
    "nltk.download('punkt')\n",
    "\n",
    "from nltk.corpus import stopwords\n"
   ]
  },
  {
   "cell_type": "code",
   "execution_count": null,
   "metadata": {
    "id": "al4V0QH2ylbN"
   },
   "outputs": [],
   "source": [
    "from nltk.stem import WordNetLemmatizer"
   ]
  },
  {
   "cell_type": "code",
   "execution_count": null,
   "metadata": {
    "colab": {
     "base_uri": "https://localhost:8080/"
    },
    "id": "b0p75TCUyhLO",
    "outputId": "a76d2cd8-0ca2-4d64-baa4-e5e7ee034267"
   },
   "outputs": [
    {
     "data": {
      "text/plain": [
       "numpy.ndarray"
      ]
     },
     "execution_count": 13,
     "metadata": {},
     "output_type": "execute_result"
    }
   ],
   "source": [
    "y = df['label']\n",
    "\n",
    "y = y.to_numpy()\n",
    "\n",
    "type(y)"
   ]
  },
  {
   "cell_type": "code",
   "execution_count": null,
   "metadata": {
    "id": "MMxAOsEiy76h"
   },
   "outputs": [],
   "source": [
    "all_stopwords = stopwords.words('english')\n",
    "negation = ['no','not']\n",
    "\n",
    "all_stopwords = [ w for w in all_stopwords if w not in negation]"
   ]
  },
  {
   "cell_type": "code",
   "execution_count": null,
   "metadata": {
    "id": "7EzYszyf0WNv"
   },
   "outputs": [],
   "source": [
    "lemma = WordNetLemmatizer()"
   ]
  },
  {
   "cell_type": "code",
   "execution_count": null,
   "metadata": {
    "id": "Juv0jFtJy79I"
   },
   "outputs": [],
   "source": [
    "def preprocessing(data):\n",
    "  corpus = []\n",
    "  for i in range(len(data)):\n",
    "    review = data.iloc[i].lower()\n",
    "    review = re.sub(r'\\d+', ' ', review)\n",
    "    review = review.split(' ')\n",
    "\n",
    "    review = [lemma.lemmatize(word) for word in review if word not in all_stopwords ]\n",
    "    review = ' '.join(review)\n",
    "    corpus.append(review)\n",
    "  return corpus\n",
    "\n"
   ]
  },
  {
   "cell_type": "code",
   "execution_count": null,
   "metadata": {
    "id": "J9pfDMQCzhhe"
   },
   "outputs": [],
   "source": [
    "review = preprocessing(df['quotes'])"
   ]
  },
  {
   "cell_type": "code",
   "execution_count": null,
   "metadata": {
    "colab": {
     "base_uri": "https://localhost:8080/"
    },
    "id": "mhEi9MJV1P7d",
    "outputId": "82825e80-8a76-4961-ae90-ae47651eedf2"
   },
   "outputs": [
    {
     "data": {
      "text/plain": [
       "0      Age is an issue of mind over matter. If you do...\n",
       "1      Anyone who stops learning is old, whether at t...\n",
       "2      Wrinkles should merely indicate where smiles h...\n",
       "3      True terror is to wake up one morning and disc...\n",
       "4      A diplomat is a man who always remembers a wom...\n",
       "                             ...                        \n",
       "553    It is difficult to put into words what I suffe...\n",
       "554    Shakespeare himself never described this tortu...\n",
       "555    I had stopped composing; my mind seemed to bec...\n",
       "556                                       I did nothing.\n",
       "557                  One power was left to me-to suffer.\n",
       "Name: quotes, Length: 558, dtype: object"
      ]
     },
     "execution_count": 18,
     "metadata": {},
     "output_type": "execute_result"
    }
   ],
   "source": [
    "df['quotes']"
   ]
  },
  {
   "cell_type": "code",
   "execution_count": null,
   "metadata": {
    "colab": {
     "base_uri": "https://localhost:8080/"
    },
    "id": "krbka-xVzhkO",
    "outputId": "e69ef636-4a83-4611-adcd-b5364444c887"
   },
   "outputs": [
    {
     "data": {
      "text/plain": [
       "['age issue mind matter. mind, matter.',\n",
       " 'anyone stop learning old, whether twenty eighty. anyone keep learning stay young. greatest thing life keep mind young.',\n",
       " 'wrinkle merely indicate smile been.',\n",
       " 'true terror wake one morning discover high school class running country.',\n",
       " \"diplomat man always remembers woman's birthday never remembers age.\",\n",
       " 'grow older, pay le attention men say. watch do.',\n",
       " 'incessant great ill prolonged old age replete.',\n",
       " 'old age, believe me, good pleasant thing. true gently shouldered stage, given comfortable front stall spectator.',\n",
       " 'old age deformity enough own. never add deformity vice.',\n",
       " 'nobody grows old merely living number years. grow old deserting ideals. year may wrinkle skin, give enthusiasm wrinkle soul.',\n",
       " 'archaeologist best husband woman have. older get interested her.',\n",
       " 'disease run one, old age.',\n",
       " 'bashfulness ornament youth, reproach old age.',\n",
       " 'like everyone else make mistake getting older, begin day coffee obituaries.',\n",
       " 'age appears best four thing old wood best burn, old wine drink, old friend trust, old author read.',\n",
       " 'none old outlived enthusiasm.',\n",
       " 'every man forty scoundrel.',\n",
       " 'forty old age youth fifty youth old age.',\n",
       " \"can't help getting older, get old.\",\n",
       " 'alas, certain age every man responsible face.',\n",
       " \"youth allowed stay late new year's eve. middle age forced to.\",\n",
       " 'old age like everything else. make success it, got start young.',\n",
       " 'comfortable old age reward well-spent youth. instead bringing sad melancholy prospect decay, would give u hope eternal youth better world.',\n",
       " 'man growing old becomes child again.',\n",
       " 'never old man. me, old age always   year older am.',\n",
       " 'age considers youth ventures.',\n",
       " 'person consider virtue, age   simply loss energy.',\n",
       " 'age high price pay maturity.',\n",
       " 'old age no place sissies.',\n",
       " \"feel old. feel anything till noon. that's time nap.\",\n",
       " 'approve youth something old man him, no le pleased old man something youth. follows rule may old body, never mind.',\n",
       " 'believe one grows older. think happens early life certain age one stand still stagnates.',\n",
       " \"advice old age foolish absurd increase provision road nearer approach journey's end.\",\n",
       " 'grace joined wrinkles, adorable. unspeakable dawn happy old age.',\n",
       " 'take long time become young.',\n",
       " 'thirty, body mind own.',\n",
       " 'fountain youth: mind, talents, creativity bring life life people love. learn tap source, truly defeated age.',\n",
       " 'age not particularly interesting subject. anyone get old. live long enough.',\n",
       " 'old mind like old horse must exercise wish keep working order.',\n",
       " 'forty old age youth, fifty youth old age.',\n",
       " 'youth gift nature, age work art.',\n",
       " \"preparation old age begin not later one's teens. life empty purpose   not suddenly become filled retirement.\",\n",
       " 'always specific moment become aware youth gone but, year after, know much later.',\n",
       " 'growing old no bad habit busy person no time form.',\n",
       " 'long adult think he, like parent teacher old, become introspective, invoking youth understand youth him, lost.',\n",
       " 'old age fifteen year older am.',\n",
       " 'aging not lost youth new stage opportunity strength.',\n",
       " 'great secret old people share really changed seventy eighty years. body changes, change all. that, course, cause great confusion.',\n",
       " 'trick growing without growing old.',\n",
       " 'old age come suddenly, not gradually thought.',\n",
       " 'think whole life show face proud that.',\n",
       " \"i'm happy report inner child still ageless.\",\n",
       " 'youth best time rich, best time poor.',\n",
       " 'sad grow old nice ripen.',\n",
       " 'one many thing nobody ever tell middle age nice change young.',\n",
       " 'older, two thing possibly important others: health money.',\n",
       " 'end deserve. old age must put face, friends, health, child earned.',\n",
       " \"i'm not interested age. people tell age silly. old feel.\",\n",
       " 'inflation pay fifteen dollar ten-dollar haircut used get five dollar hair.',\n",
       " 'notion wife   man able change her, like bank note, two  s.',\n",
       " 'age naturally, family show face. deny that, deny heritage.',\n",
       " \"old age like plane flying storm. aboard, there's nothing do.\",\n",
       " \"youth day short year long. old age year short day's long.\",\n",
       " 'aging process firmly grasp never get urge throw snowball.',\n",
       " 'age determine valuable are.',\n",
       " 'middle age age start show around middle.',\n",
       " 'aging seems available way live long life.',\n",
       " 'think full horror fifty hit you, stay home good cry.',\n",
       " 'keep heart unwrinkled, hopeful, kindly, cheerful, reverent triumph old age.',\n",
       " 'old, try change yourself, change environment.',\n",
       " 'old age excellent time outrage. goal say least one outrageous thing every week.',\n",
       " 'want get old gracefully. want good posture, want healthy example children.',\n",
       " 'know getting old name black book m. d. them.',\n",
       " 'make old age sad not joy hope cease.',\n",
       " 'old age shipwreck.',\n",
       " 'one find company pursuits, cannot feel old, no matter year may be.',\n",
       " 'resist frigidity old age, one must combine body, mind, heart. keep parallel vigor one must exercise, study, love.',\n",
       " 'old age unexpected thing happen man.',\n",
       " 'no one avoid aging, aging productively something else.',\n",
       " 'turned rebel twenty got no heart turned establishment thirty got no brains!',\n",
       " 'oh rage! oh despair! oh age, enemy!',\n",
       " \"want fight aging want take good care myself, plastic surgery that? i'm not interested.\",\n",
       " 'middle age time man always thinking week two feel good ever.',\n",
       " 'provide old age may no urgent want world absorb meditation next. awful see lean hand dotage making coffer grave.',\n",
       " 'middle age awkward period father time start catching mother nature.',\n",
       " 'middle age youth without levity, age without decay.',\n",
       " 'no man ever old enough know better.',\n",
       " 'denunciation young necessary part hygiene older people, greatly assist circulation blood.',\n",
       " 'youth run difficulties. old age difficulty run us.',\n",
       " 'pay old excess youth.',\n",
       " \"answer old age keep one's mind busy go one's life interminable. always admired chekhov building new house dying tuberculosis.\",\n",
       " \"we've put effort helping folk reach old age helping enjoy it.\",\n",
       " 'real sadness fifty not change much change little.',\n",
       " \"i'm not afraid aging.\",\n",
       " 'profound respect old age. especially bottled.',\n",
       " 'whatever poet, orator sage may say it, old age still old age.',\n",
       " 'keep heart unwrinkled, hopeful, kindly, cheerful, reverent - triumph old age.',\n",
       " 'old age like batch letter someone sent. no longer past, arrived.',\n",
       " \"there's no thing old age, sorrow.\",\n",
       " 'love deeply never grow old may die old age, die young.',\n",
       " 'get fired aging america.',\n",
       " 'really frightening thing middle age knowledge grow it.',\n",
       " 'anti-aging possibility, come within.',\n",
       " 'lovely thing forty appreciate twenty-five-year-old men more.',\n",
       " 'noble life prepared old age, not decline reveals, first day immortality.',\n",
       " \"whole business marshaling one's energy becomes important one grows older.\",\n",
       " 'tendency old age body, say physiologists, form bone. rare pleasant meet old man whose opinion not ossified.',\n",
       " 'old age add respect due virtue, take nothing contempt inspired vice whitens hair.',\n",
       " 'men get older, toy get expensive.',\n",
       " 'find man old work. work keep moving forward, look forward work.',\n",
       " 'common sense collection prejudice acquired age eighteen.',\n",
       " 'reading, certain age, diverts mind much creative pursuits. man read much us brain little fall lazy habit thinking.',\n",
       " 'confusion goal perfection mean seems, opinion, characterize age.',\n",
       " 'perfection mean confusion end seem characterize age.',\n",
       " 'age woman mean thing. best tune played oldest fiddles.',\n",
       " 'life would infinitely happier could born age eighty gradually approach eighteen.',\n",
       " \"stockbroker urged buy stock would triple value every year. told him, 'at age, even buy green bananas.'\",\n",
       " 'marrying, ask question: believe able converse well person old age? everything else marriage transitory.',\n",
       " 'probably happiest period life frequently middle age, eager passion youth cooled, infirmity age not yet begun see shadows, morning evening large, almost entirely disappear midday.',\n",
       " 'age whatever think is. old think are.',\n",
       " 'human beings, greatness lie not much able remake world - myth atomic age - able remake ourselves.',\n",
       " 'man love meat youth cannot endure age.',\n",
       " 'every country every age, priest hostile liberty.',\n",
       " 'heresy one age becomes orthodoxy next.',\n",
       " 'golden age us, not behind us.',\n",
       " 'every formula every religion age reason, submit acid test reason universal assent.',\n",
       " \"thomas jefferson said, 'we never judge president age, works.' ever since told that, stopped worrying.\",\n",
       " 'no woman ever quite accurate age. look calculating.',\n",
       " 'twenty year age reign thirty, wit forty, judgment.',\n",
       " 'age not protect love. love, extent, protects age.',\n",
       " 'information oxygen modern age. seeps wall topped barbed wire, waft across electrified borders.',\n",
       " \"old age record one's whole life.\",\n",
       " 'prefer world law age self-determination world war age mass extermination.',\n",
       " 'age, found, must write book rather, generation next succeeding.',\n",
       " 'education best provision old age.',\n",
       " 'secret staying young live honestly, eat slowly, lie age.',\n",
       " 'sometimes think would easier avoid old age, die young, never complete life, would you? never wholly know you.',\n",
       " 'think poor deprived ghetto girl made good. think somebody early age knew responsible myself, make good.',\n",
       " \"kid old enough - want let kids. want comment much. they're age want let kids.\",\n",
       " 'calm happy nature hardly feel pressure age, opposite disposition youth age equally burden.',\n",
       " 'society feel responsible education children, not education adult every age?',\n",
       " \"i've got volume not behave. i've got information guy age.\",\n",
       " \"i'm age food taken place sex life. fact, i've mirror put kitchen table.\",\n",
       " 'age something matter, unless cheese.',\n",
       " 'hesitation increase relation risk equal proportion age.',\n",
       " 'book pas personal freedom. learned read age three, soon discovered whole world conquer went beyond farm mississippi.',\n",
       " \"age no thing 'keeping politics.' issue political issues, politics mass lies, evasions, folly, hatred schizophrenia.\",\n",
       " 'must confess, born early age.',\n",
       " 'secret genius carry spirit child old age, mean never losing enthusiasm.',\n",
       " 'utterly false cruelly arbitrary put play learning childhood, work middle age, regret old age.',\n",
       " 'information age, entertainment age.',\n",
       " '- old age always ten year older am.',\n",
       " 'age not important unless cheese.',\n",
       " 'no matter age are, circumstance might be, special, still something unique offer. life, are, meaning.',\n",
       " 'woman age deserves.',\n",
       " 'older grow distrust familiar doctrine age brings wisdom.',\n",
       " 'youngster age two three endowed extraordinary strength. lift dog twice weight dump bathtub.',\n",
       " 'not spirit age, misery it.',\n",
       " 'instead presented stereotype age, sex, color, class, religion, child must opportunity learn within range, people loathsome delightful.',\n",
       " 'think able age gracefully important talent. late me.',\n",
       " 'error acceptable long young one must not drag along old age.',\n",
       " 'age wrinkle body. quitting wrinkle soul.',\n",
       " 'need remind age. bladder me.',\n",
       " 'talk far accessible pleasures. cost nothing money, profit, completes education, found foster friendships, enjoyed age almost state health.',\n",
       " 'men age object much, consult long, adventure little, repent soon, seldom drive business home full period, content mediocrity success.',\n",
       " 'better pas boldly world, full glory passion, fade wither dismally age.',\n",
       " 'age merely show child remain.',\n",
       " \"moment happy lover's hour worth age dull common life.\",\n",
       " 'credit advancing science always due individual never age.',\n",
       " \"dressing bore. certain age, decorate attract opposite sex, certain age, that. i'm past age.\",\n",
       " 'born age twelve mgm lot.',\n",
       " 'woman telling true age like buyer confiding final price armenian rug dealer.',\n",
       " 'young die old age?',\n",
       " 'legend: lie attained dignity age.',\n",
       " 'age not protect love. love, extent, protects age.',\n",
       " 'every great architect - necessarily - great poet. must great original interpreter time, day, age.',\n",
       " 'age six wanted cook. seven wanted napoleon. ambition growing steadily ever since.',\n",
       " 'middle age sitting home saturday night telephone ring hope you.',\n",
       " 'youth knew age could.',\n",
       " 'think biggest disease world suffers day age disease people feeling unloved. know give love minute, half hour, day, month, give. happy that, want that.',\n",
       " 'charm history enigmatic lesson consist fact that, age age, nothing change yet everything completely different.',\n",
       " 'men like wine - turn vinegar, best improve age.',\n",
       " \"created punk day age. see britney walking around wearing tie singing punk? hell no. that's do. i'm like sid vicious new generation.\",\n",
       " 'genius age ten.',\n",
       " 'well world us, age thirty, character set like plaster, never soften again.',\n",
       " 'every age poetry every age circumstance history choose nation, race, class take torch creating situation expressed transcended poetry.',\n",
       " 'old age not matter sorrow. matter thanks left work done behind us.',\n",
       " 'suppose reach certain age men afraid grow up. seems older men get, younger new wife get.',\n",
       " 'sex age   like trying shoot pool rope.',\n",
       " 'publishing kind jurassic age.',\n",
       " 'age number. totally irrelevant unless, course, happen bottle wine.',\n",
       " 'whatever may look like, marry man age - beauty fades, eyesight.',\n",
       " 'youth no age.',\n",
       " 'youth blunder manhood struggle, old age regret.',\n",
       " 'teach live without certainty yet without paralysed hesitation perhaps chief thing philosophy, age, study it.',\n",
       " 'possible mankind threshold golden age but, so, necessary first slay dragon guard door, dragon religion.',\n",
       " 'nobody expects trust body overmuch age fifty.',\n",
       " 'old age realizes dream youth: look dean swift youth built asylum insane, old age inmate.',\n",
       " 'youth learn age understand.',\n",
       " 'believe me, happy age, day architects, day builders.',\n",
       " 'problem of, must confess, old age.',\n",
       " 'not commerce world idea age putting veritable clearance sale. everything dirt cheap one begin wonder whether end anyone want make bid.',\n",
       " 'bad news wine. improve age.',\n",
       " 'real increase human happiness, could young men age nineteen covered barrels, rendered otherwise invisible left follow lawful study callings, till emerged, sadder wiser, age twenty-five.',\n",
       " 'people refuse rest honorably laurel reach retirement age seem admirable me.',\n",
       " 'not expose true feeling adult seems instinctive age seven eight onwards.',\n",
       " 'heart never grows better age fear rather worse, always harder. young liar old one, young knave greater knave grows older.',\n",
       " 'age opportunity no le youth itself, though another dress, evening twilight fade away sky filled stars, invisible day.',\n",
       " 'age case mind matter. mind, matter.',\n",
       " 'regular hour work play make day useful pleasant, prove understand worth time employing well. youth delightful, old age bring regrets, life become beautiful success.',\n",
       " 'admiration proletariat, like dams, power stations, aeroplanes, part ideology machine age.',\n",
       " 'age chivalry gone. sophisters, economists, calculator succeeded glory europe extinguished forever.',\n",
       " 'childhood: period human life intermediate idiocy infancy folly youth - two remove sin manhood three remorse age.',\n",
       " 'experience revelation light renounce error youth age.',\n",
       " 'view younger age optimism imagination etc. le bias.',\n",
       " 'ruling idea age ever idea ruling class.',\n",
       " \"information age, teach philosophy feudalism. perform it. aristotle alive today he'd talk show.\",\n",
       " 'planned write book poem entirely thing pocket. found would long age great epic past.',\n",
       " 'harvest old age recollection abundance blessing previously secured.',\n",
       " 'spirit age believe fact, no matter suspect, superior imaginative exercise, no matter true.',\n",
       " 'arrogance age must submit taught youth.',\n",
       " 'biggest disease day age people feeling unloved.',\n",
       " \"old age: crown life, play's last act.\",\n",
       " \"think woman start embrace age. what's alternative getting older? die. can't change day born. take care skin, body, mind, try live life happy.\",\n",
       " 'age getting know way world turns, cannot turn world way want, least get way get run over.',\n",
       " 'women, fear, reason think long sad year youth worth living sake middle age.',\n",
       " 'one crowded hour glorious life worth age without name.',\n",
       " \"wife young men's mistresses, companion middle age, old men's nurses.\",\n",
       " 'wisdom necessarily come age. sometimes age show itself.',\n",
       " 'blessed thing every age one individuality enough courage enough stand convictions.',\n",
       " \"life, small way, i've tried give back country given much. that's left job law firm career public service, working empower young people volunteer communities. believe u - no matter age background walk life - u something contribute life nation.\",\n",
       " 'no lying knight lying priest ever prospered age, especially not dark ones. men prospered following openly declared purpose, preaching candidly beloved trusted creeds.',\n",
       " 'man not die love liver even old age dy man.',\n",
       " 'old love old age man life miseries, dead pleasures.',\n",
       " 'cried  th birthday. thought   nice age. young enough get away things, old enough, too.',\n",
       " 'live age young indifferent no longer synonymous. must prepare coming hour. claim future represented suffering million youth nation trustee posterity.',\n",
       " 'age affect you. like size shoe - determine live life! either marvellous boring, regardless age.',\n",
       " 'rashness belongs youth prudence old age.',\n",
       " 'many believe - believe - designated work god. spite old age, not want give work love god put hope him.',\n",
       " 'old age tyrant, forbids, pain death, pleasure youth.',\n",
       " 'defect mind, like face, grow worse age.',\n",
       " 'enemy society middle class enemy life middle age.',\n",
       " 'say age chivalry past, spirit romance dead. age chivalry never past, long wrong left unredressed earth.',\n",
       " 'man no body distinct soul called body portion soul discerned five senses, chief inlet soul age.',\n",
       " 'remember     year old really thought folk best? completely omniscient took word everything. got older went hideous age suddenly devil, bullies, know anything.',\n",
       " 'patent age new invention killing bodies, saving souls. propagated best intentions.',\n",
       " 'mind wise mourns le age take away leaf behind.',\n",
       " 'age chivalry past. bore succeeded dragons.',\n",
       " 'anything cannot relinquish outlived usefulness posse you, materialistic age great many u possessed possessions.',\n",
       " 'like many woman age,   year old.',\n",
       " 'life, age miserable, moment happy.',\n",
       " 'always age inside.',\n",
       " \"am, i've said, merely competent. age incompetence, make extraordinary.\",\n",
       " \"swing voter appropriately known 'idiot voters' no set philosophical principles. age fourteen, either conservative liberal iq toaster.\",\n",
       " 'live one hundred, got made. people die past age.',\n",
       " 'old age far white hair, wrinkles, feeling late game finished, stage belongs rising generations. true evil not weakening body, indifference soul.',\n",
       " 'old age pleasures, which, though different, not le pleasure youth.',\n",
       " 'old age liver spot show gloves.',\n",
       " 'no absurdity palpable may firmly planted human head begin inculcate age five, constantly repeating air great solemnity.',\n",
       " 'improve age embrace power personal growth personal achievement begin replace youth wisdom, innocence understanding, lack purpose self-actualization.',\n",
       " 'nearly powerful people age unbelievers, best doubt misery, plodding hesitation, well can, practical work lie hand.',\n",
       " 'adult? child blown age.',\n",
       " 'intelligent life planet come age first work reason existence.',\n",
       " 'healthy long lived race, mind improve age.',\n",
       " 'wisdom age: stop walking.',\n",
       " 'age television progress reagan rule, not exception. perfect television president days.',\n",
       " 'anything else, need new age enlightenment. present political system must relinquish claim truth, justice freedom replace search truth, justice, freedom reason.',\n",
       " 'age strictly case mind matter. mind, matter.',\n",
       " \"age' acceptance term years. maturity glory years.;martha graham;age\\n ;i think ought raise age juvenile gun.;george w. bush;age\\n ;in age, belief short cut everything, greatest lesson learned difficult way is, long run, easiest.;henry miller;age\\n ;a man fool drink reach age  , fool afterward.;frank lloyd wright;age\\n ;there thing unwillingly give up, even advanced age, supposition still power ingratiating fair sex.;samuel johnson;age\\n ;age imprint wrinkle mind face.;michel de montaigne;age\\n ;i confirmed prep school age  .;richard dawkins;age\\n ;love no age, no limit no death.;john galsworthy;age\\n ;what make old age hard bear not failing one's faculties, mental physical, burden one's memories.;w. somerset maugham;age\\n ;i always paid income tax. object reach stage threatened nothing left old age - due start next tuesday wednesday.;noel coward;age\\n ;in youth stressed freedom, old age stress order. made great discovery liberty product order.;will durant;age\\n ;and i'm afraid, day age, trust, count so, know, love loyalty. love trust.;elton john;age\\n ;my dad encouraged u fail. growing up, would ask u failed week. something, would disappointed. changed mindset early age failure not outcome, failure not trying. afraid fail.;sara blakely;age\\n ;what worst woe wait age? stamp wrinkle deeper brow? view loved one blotted life's page, alone earth, now.;lord byron;age\\n ;age matter feeling, not years.;washington irving;age\\n ;a tart temper never mellows age, sharp tongue edged tool grows keener constant use.;washington irving;age\\n ;canada passive-aggressive culture, lot sarcasm righteousness. went weird messianic complex. ego fascinating monster. taught young age serve, turned thinking save planet.;alanis morissette;age\\n ;discrimination due age one great tragedy modern life. desire work useful make life worth living, told effort not needed wrong age crime.;johnny ball;age\\n ;an artist must reactionary. stand tenor age not go flopping along.;andre maurois;age\\n ;what turn digital age, excited personally, closed gap dreaming doing. see, used wanted make record song, needed studio producer. now, need laptop.;bono;age\\n ;i always felt woman right treat subject age ambiguity until, perhaps, pass realm ninety. better candid world.;carl sandburg;age\\n ;nice here? age nice anywhere.;george burns;age\\n ;though jazz age continued became le le affair youth. sequel like children's party taken elders.;f. scott fitzgerald;age\\n ;each age deemed new-born year fittest time festal cheer.;walter scott;age\\n ;our age know nothing reaction, leap one extreme another.;reinhold niebuhr;age\\n ;the philosophy one age become absurdity next, foolishness yesterday become wisdom tomorrow.;william osler;age\\n ;i saw no african people printed illustrated sunday school lessons. began suspect early age someone distorted image people. long search true history african people world began.;john henrik clarke;age\\n ;in order fix social security, must restructure continue provide nation's senior approaching retirement age, allow younger taxpayer invest portion social security tax private accounts.;herman cain;age\\n ;no lie ever reach old age.;sophocles;age\\n ;i wanted teacher. love children, wanted deal children. wanted veterinarian. age ten eleven, opened mouth said, 'oh, god, what's this?' kind knew teaching veterinarian gonna wait.;whitney houston;age\\n ;this curse age, even strangest aberration no cure boredom.;stendhal;age\\n ;if repression indeed fundamental link power, knowledge, sexuality since classical age, stand reason not able free except considerable cost.;michel foucault;age\\n ;but old age serene bright, lovely lapland night, shall lead thee thy grave.;william wordsworth;age\\n ;litigation take place sex middle age.;gore vidal;age\\n ;the face age   face god gave you, face   face earned.;cindy crawford;age\\n ;the hallmark age tension aspiration sluggish institutions.;john w. gardner;age\\n ;it seems age genius must succeeded age endeavour riot extravagance cleanliness hard work.;virginia woolf;age\\n ;old age ready undertake task youth shirked would take long.;w. somerset maugham;age\\n ;a woman tell doctor, 'i've got bad back.' doctor says, 'it's old age.' woman says, 'i want second opinion.' doctor says: 'okay - ugly well.\",\n",
       " \"i'm   met woman age married her, i'd also marrying former life, past. might ok people - want judge anything - not me. would destroy creativity.\",\n",
       " 'believe encourage child sing play instrument early age.',\n",
       " \"not consider man's age acts.\",\n",
       " 'age flower scare me.',\n",
       " 'would go woman age, no woman age.',\n",
       " 'not well make great change old age.',\n",
       " 'setting good example child take fun middle age.',\n",
       " '    right? tough live age. nothing sure. sympathy you.',\n",
       " 'star shall fade away, sun grow dim age, nature sink years, thou shalt flourish immortal youth, unhurt amidst war elements, wreck matter, crush worlds.',\n",
       " 'young men soon give, soon forget, affront old age slow both.',\n",
       " 'pathologically romantic, recognized not age small man.',\n",
       " 'depression rage spread thin.',\n",
       " 'depression merely anger without enthusiasm.',\n",
       " 'you’ve got nowhere turn, turn gas.',\n",
       " 'depression open door beauty kind.',\n",
       " 'drink stay warm, kill selected memories.',\n",
       " 'depression something make lose sight.',\n",
       " 'no one make feel inferior without consent.',\n",
       " 'certainly see people overcome depression.',\n",
       " 'strange way, fallen love depression.',\n",
       " 'concern drive u action, not depression.',\n",
       " 'want life: pain seem purposeful.',\n",
       " 'hopelessness even pain crush soul.',\n",
       " 'depression, far i’m concerned, waste time.',\n",
       " 'crack everything, that’s light get in.',\n",
       " 'coming crack like worst depression.',\n",
       " 'worst.',\n",
       " 'depression lot love, no one’s taking.',\n",
       " 'think there’s great depression might hope.',\n",
       " 'far, far better thing ahead leave behind.',\n",
       " 'know pain doesn’t exist without coexisting depression.',\n",
       " 'world lean us.',\n",
       " 'sag, whole world seems droop.',\n",
       " 'depression melancholy minus charm \\n\\ndepression nourished lifetime ungrieved unforgiven hurts.',\n",
       " 'depression treatable medical illness like cancer heart disease.',\n",
       " 'chronically down, lifelong fight keep sinking.',\n",
       " 'living nightmare, time time wake sleep.',\n",
       " 'way see it, want rainbow, gotta put rain.',\n",
       " 'no one useless world lightens burden anyone else.',\n",
       " 'greatest glory not never falling, rising every time fall.',\n",
       " 'self-acceptance refusal adversarial relationship myself.',\n",
       " 'recovery manic depression evolution, not sudden miracle.',\n",
       " 'recession neighbor loses job.',\n",
       " 'depression lose yours.',\n",
       " 'i’m person distinction ever depression named him.',\n",
       " 'life ten percent experience ninety percent respond it.',\n",
       " 'silence depressed me.',\n",
       " 'wasn’t silence silence.',\n",
       " 'silence.',\n",
       " 'depression prison suffering prisoner cruel jailer.',\n",
       " 'don’t control thoughts; stop letting control you.',\n",
       " 'temper water would scarcely kick come top.',\n",
       " 'depressed deeply disgusted painting.',\n",
       " 'really continual torture.',\n",
       " 'enthusiasm followed disappointment even depression, renewed enthusiasm.',\n",
       " 'art saved me; got depression self-loathing, back place innocence.',\n",
       " 'like illnesses, depression treated people live happy, active lives.',\n",
       " 'can’t eat can’t sleep.',\n",
       " 'i’m not well term functional human, know?',\n",
       " 'depression not sobbing cry giving vent, plain simple reduction feeling.',\n",
       " 'we’re unemployed, we’re called lazy; white unemployed it’s called depression.',\n",
       " 'i’ll never forget depression loneliness felt good bad time.',\n",
       " 'still does.',\n",
       " 'no matter happens, bad seems today, life go on, better tomorrow.',\n",
       " 'start what’s necessary; what’s possible; suddenly impossible.',\n",
       " 'lack system made ’ depression inevitable others previously suffered.',\n",
       " 'past show haunt you, make sure come supper doesn’t ruin whole day.',\n",
       " 'wound never show body deeper hurtful anything bleeds.',\n",
       " 'grief depression proportion circumstance; depression grief proportion circumstance.',\n",
       " 'life spent making mistake not honorable, useful life spent nothing.',\n",
       " 'generation no great war, no great depression.',\n",
       " 'war spiritual.',\n",
       " 'depression lives.',\n",
       " 'insanity knowing you’re completely idiotic, still, somehow, can’t stop it.',\n",
       " 'no, life ain’t always beautiful\\ntears fall sometimes\\nlife ain’t always beautiful\\nbut it’s beautiful ride.',\n",
       " 'every man secret sorrow world know not; often time call man cold sad.',\n",
       " 'artist’s personality, built upon strong desire compassionate vision, nature prone depression.',\n",
       " 'may also like  best   winston churchill quote action, war, crime, courage\\ndepression left, loneliness right.',\n",
       " 'don’t need show badges.',\n",
       " 'know guy well.',\n",
       " 'depression seem worse terminal cancer, cancer patient feel loved hope self-esteem.',\n",
       " 'try think someone else you’re mad at, unavoidable answer pop little warped brain: everyone.',\n",
       " 'depression creeping must faced, learn something nature beast: may escape without mauling.',\n",
       " 'i, don’t think anybody’s continually happy, uh, except idiots, know.',\n",
       " 'know, little moment depression.',\n",
       " 'didn’t try eavesdrop every bus ride take look humor go walk, would depressed time.',\n",
       " 'instead seeing depression dysfunction, functioning phenomenon.',\n",
       " 'stop cold, set down, make damn miserable.',\n",
       " 'i’ve problem since  s.',\n",
       " 'don’t call manic depression anymore.',\n",
       " 'call bipolar disorder, i’m type  ?',\n",
       " 'boondoggle depression, word going enshrined heart american people year come.',\n",
       " 'attached gloomy thoughts, nothing help much running books.',\n",
       " 'quickly absorb banish cloud mind.',\n",
       " 'not brood past mistake failure fill mind grief, regret depression.',\n",
       " 'not repeat future.',\n",
       " 'every age yearns beautiful world.',\n",
       " 'deeper desperation depression confusing present, intense yearning.',\n",
       " 'suffer depression, anything make feel important thing life, it’s thing save you.',\n",
       " 'unemployment sky-rocketing; deflation future first time since great depression.',\n",
       " 'don’t care whose fault is, it’s truth.',\n",
       " 'term clinical depression find way many conversation days.',\n",
       " 'one sense catastrophe occurred psychic landscape.',\n",
       " 'depression like bruise never go away.',\n",
       " 'bruise mind.',\n",
       " 'got careful not touch hurts.',\n",
       " 'it`s always there, though.',\n",
       " 'depression like bruise never go away.',\n",
       " 'bruise mind.',\n",
       " 'got careful not touch hurts.',\n",
       " 'it’s always there, though.',\n",
       " 'well fifty year ago making radio loudspeaker radio set rochester, new york; pretty young inexperienced; survived depression.',\n",
       " 'depression flaw love.',\n",
       " 'creature love, must creature despair lose, depression mechanism despair.',\n",
       " 'i’m currently middle depression.',\n",
       " 'couldn’t really tell set off, think stem cowardice, confronts every turn.',\n",
       " 'living depression like trying keep balance dance goat — perfectly sane prefer partner better sense balance.',\n",
       " 'wherever sat—on deck ship street café paris bangkok—i would sitting glass bell jar, stewing sour air.',\n",
       " 'sometimes one simply endure period depression may hold illumination one live it, attentive expose demands.',\n",
       " 'may not forget poverty rich spirit.',\n",
       " 'though world know not, may thought action keep friendly myself.',\n",
       " 'say you’re ‘depressed’ \\n\\ncharacter cannot developed ease quiet.',\n",
       " 'experience trial suffering soul strengthened, ambition inspired, success achieved.',\n",
       " 'depression not sobbing cry giving vent, plain simple reduction feeling…people keep stiff upper lip find it’s damn hard smile.',\n",
       " 'don’t believe eye telling you.',\n",
       " 'show limitation.',\n",
       " 'look understanding, find already know, you’ll see way fly.',\n",
       " 'pain insists upon attended to.',\n",
       " 'god whisper u pleasures, speaks consciences, shout pains.',\n",
       " 'megaphone rouse deaf world.',\n",
       " 'striking development great depression   profound skepticism future contemporary society among large section american people.',\n",
       " 'never remotely ashamed depressed.',\n",
       " 'never.',\n",
       " 'what’s ashamed of?',\n",
       " 'went really rough time quite proud got that.',\n",
       " 'slow menace glacier, depression came on.',\n",
       " 'no one measure progress; no one plan stopping it.',\n",
       " 'everyone tried get way.',\n",
       " 'addition numerous acquaintances, one intimate confidant.',\n",
       " 'depression faithful mistress known- no wonder, then, return love.',\n",
       " 'lot people don’t realize depression illness.',\n",
       " 'don’t wish anyone, would know feels, swear would think twice shrug it.',\n",
       " 'depressed person becomes active hopeful, self-esteem always improves.',\n",
       " 'bolstering self-esteem without changing hopelessness, without changing passivity, accomplishes nothing.',\n",
       " 'like living.',\n",
       " 'sometimes wildly, despairingly, acutely miserable, racked sorrow, still know quite certainly alive grand thing.',\n",
       " 'may also like  best   nature quotes\\ni start think really no cure depression, happiness ongoing battle, wonder isn’t one i’ll fight long live.',\n",
       " 'wonder it’s worth it.',\n",
       " 'life no brief candle me.',\n",
       " 'sort splendid torch got hold moment, want make burn brightly possible handing future generations.',\n",
       " 'not already meditating, would certainly start.',\n",
       " 'i’ve treated depression many year exercise meditation, i’ve found tremendous help.',\n",
       " 'adversity i’ve life, trouble obstacles, strengthened me… may not realize happens, kick teeth may best thing world you.',\n",
       " 'that’s thing depression: human survive almost anything, long see end sight.',\n",
       " 'depression insidious, compound daily, it’s impossible ever see end.',\n",
       " 'didn’t want wake up.',\n",
       " 'much better time asleep.',\n",
       " 'that’s really sad.',\n",
       " 'almost like reverse nightmare, like wake nightmare you’re relieved.',\n",
       " 'woke nightmare.',\n",
       " 'no amount love cure madness unblacken one’s dark moods.',\n",
       " 'love help, make pain tolerable, but, always, one beholden medication may may not always work may may not bearable.',\n",
       " 'good humor tonic mind body.',\n",
       " 'best antidote anxiety depression.',\n",
       " 'business asset.',\n",
       " 'attracts keep friends.',\n",
       " 'lightens human burdens.',\n",
       " 'direct route serenity contentment.',\n",
       " 'no point treating depressed person though feeling sad, saying, ‘there now, hang on, you’ll get it.’ sadness le like head cold- patience, passes.',\n",
       " 'depression like cancer.',\n",
       " 'booming stock market   went world’s greatest depression.',\n",
       " 'booming stock market  .',\n",
       " 'bubble somehow burst, enter depression?',\n",
       " 'well, thing not different.',\n",
       " 'don’t great war generation, great depression, do, great war spirit.',\n",
       " 'great revolution culture.',\n",
       " 'great depression lives.',\n",
       " 'spiritual depression.',\n",
       " 'could sense important life meet; important people may never even dream of.',\n",
       " 'something leave every meeting another person.',\n",
       " 'thought depression part character made worthwhile.',\n",
       " 'thought little myself, felt scant offering give world, one thing justified existence agony.',\n",
       " 'sometimes think depression’s one way coping world.',\n",
       " 'like, people get drunk, people drugs, people get depressed.',\n",
       " 'there’s much stuff something deal it.',\n",
       " 'sometimes think depression’s one way coping world.',\n",
       " 'like, people get drunk, people drugs, people get depressed.',\n",
       " 'there’s much stuff something deal it.',\n",
       " 'one tragic thing know human nature u tend put living.',\n",
       " 'dreaming magical rose garden horizon instead enjoying rose blooming outside window today.',\n",
       " 'mental pain le dramatic physical pain, common also hard bear.',\n",
       " 'frequent attempt conceal mental pain increase burden: easier say “my tooth aching” say “my heart broken.',\n",
       " 'observation: impossible grateful depressed.',\n",
       " 'grateful mindset tend see message mess.',\n",
       " 'even though life may knock down, grateful find reasons, even small ones, get up.',\n",
       " 'depression exist without knowing it, even denying it.',\n",
       " 'not illusion.',\n",
       " 'don’t even know you’re it.',\n",
       " 'take awhile realize it.',\n",
       " 'deny it, mean still else won’t talk misery drama life.',\n",
       " 'understanding difference healthy striving perfectionism critical laying shield picking life.',\n",
       " 'research show perfectionism hamper success.',\n",
       " 'fact, it’s often path depression, anxiety, addiction, life paralysis.',\n",
       " 'men called mad; question not yet settled, whether madness not loftiest intelligence– whether much glorious– whether profound– not spring disease thought– mood mind exalted expense general intellect.',\n",
       " 'depression faith deliverance, ultimate restoration, absent.',\n",
       " 'pain unrelenting, make condition intolerable foreknowledge no remedy come \\n\\npoor human nature cannot bear strain heavenly triumph bring it; must come reaction.',\n",
       " 'excess joy excitement must paid subsequent depressions.',\n",
       " 'trial lasts, strength equal emergency; over, natural weakness claim right show itself.',\n",
       " 'healing process time-and medical intervention hospitalization many cases-most people survive depression may blessing; tragic legion compelled destroy no reproof attached victim terminal cancer.',\n",
       " 'may also like    famous quote part   -    \\ni’m here.',\n",
       " 'love you.',\n",
       " 'don’t care need stay cry night long, stay you.',\n",
       " 'there’s nothing ever lose love.',\n",
       " 'protect die, death still protect you.',\n",
       " 'stronger depression braver loneliness nothing ever exhaust me.',\n",
       " 'don’t want see anyone.',\n",
       " 'lie bedroom curtain drawn nothingness washing like sluggish wave.',\n",
       " 'whatever happening fault.',\n",
       " 'done something wrong, something huge can’t even see it, something that’s drowning me.',\n",
       " 'inadequate stupid, without worth.',\n",
       " 'might well dead.',\n",
       " 'depression unpleasant thing ever experienced.',\n",
       " 'absence able envisage ever cheerful again.',\n",
       " 'absence hope.',\n",
       " 'deadened feeling, different feeling sad.',\n",
       " 'sad hurt it’s healthy feeling.',\n",
       " 'necessary thing feel.',\n",
       " 'depression different.',\n",
       " 'that’s thing depression.',\n",
       " 'feel deeply, don’t want let go.',\n",
       " 'becomes comfort.',\n",
       " 'want cloak heavy weight breathe lunges.',\n",
       " 'want nurture it, grow it, cultivate it.',\n",
       " 'it’s mine.',\n",
       " 'want check it, drift asleep wrapped arm not wake long, long time.',\n",
       " 'depression unpleasant thing ever experienced.',\n",
       " '.',\n",
       " '.',\n",
       " '.',\n",
       " 'absence able envisage ever cheerful again.',\n",
       " 'absence hope.',\n",
       " 'deadened feeling, different feeling sad.',\n",
       " 'sad hurt it’s healthy feeling.',\n",
       " 'necessary thing feel.',\n",
       " 'depression different.',\n",
       " 'old grey donkey, eeyore stood thistly corner forest, front foot well apart, head one side, thought things.',\n",
       " 'sometimes thought sadly himself, “why?” sometimes thought, “wherefore?” sometimes thought, “inasmuch which?” sometimes didn’t quite know thinking about.',\n",
       " 'thought beautiful thing world must shadow, million moving shape cul-de-sacs shadow.',\n",
       " 'shadow bureau drawer closet suitcases, shadow house tree stones, shadow back people’s eye smiles, shadow, mile mile mile it, night side earth.',\n",
       " 'sad world sorrow come often come bitter agony.',\n",
       " 'perfect relief not possible except time.',\n",
       " 'cannot believe ever feel better.',\n",
       " 'not true.',\n",
       " 'sure happy again.',\n",
       " 'knowing this, truly believing make le miserable now.',\n",
       " 'enough experience make statement.',\n",
       " 'sad world ours, sorrow come all, often come bitter agony.',\n",
       " 'perfect relief not possible, except time.',\n",
       " 'cannot believe ever feel better.',\n",
       " 'not true.',\n",
       " 'sure happy again.',\n",
       " 'knowing this, truly believing it, make le miserable now.',\n",
       " 'enough experience make statement.',\n",
       " 'depression \\n\\nothers imply know like depressed gone divorce, lost job, broken someone.',\n",
       " 'experience carry feelings.',\n",
       " 'depression, instead, flat, hollow, unendurable.',\n",
       " 'you’re frightened, you’re frightening, you’re ‘not like soon,’ know won’t.',\n",
       " 'didn’t want picture taken going cry.',\n",
       " 'didn’t know going cry, knew anybody spoke looked closely tear would fly eye sob would fly throat i’d cry week.',\n",
       " 'could feel tear brimming sloshing like water glass unsteady full.',\n",
       " 'studiously tried avoid ever using word ‘madness’ describe condition.',\n",
       " 'again, word slip out, hate it.',\n",
       " '‘madness’ glamorous term convey happens people losing minds.',\n",
       " 'word exciting, literary, interesting connotations, convey boredom, slowness, dreariness, dampness depression.',\n",
       " 'never asked earn me.',\n",
       " 'want need me.',\n",
       " 'path not one merit.',\n",
       " 'bring recurring desire mind me, every time emerge.',\n",
       " 'cannot shock me, willed them! bring confusion, fear, craving, anxiety, inability love world, hesitation serve, jealousy, deficiency defy spiritual disciplines.',\n",
       " 'know someone who’s depressed, please resolve never ask why.',\n",
       " 'depression isn’t straightforward response bad situation; depression is, like weather.',\n",
       " 'try understand blackness, lethargy, hopelessness, loneliness they’re going through.',\n",
       " 'come side.',\n",
       " 'it’s hard friend someone who’s depressed, one kindest, noblest, best thing ever do.',\n",
       " 'difficult put word suffered-the longing seemed tearing heart roots, dreadful sense alone empty universe, agony thrilled blood running ice-cold veins, disgust living, impossibility dying.',\n",
       " 'shakespeare never described torture; count it, hamlet, among terrible evil existence.',\n",
       " 'stopped composing; mind seemed become feebler feeling grew intense.',\n",
       " 'nothing.',\n",
       " 'one power left me-to suffer.']"
      ]
     },
     "execution_count": 19,
     "metadata": {},
     "output_type": "execute_result"
    }
   ],
   "source": [
    "review"
   ]
  },
  {
   "cell_type": "code",
   "execution_count": null,
   "metadata": {
    "id": "n9OC7TI42Ry3"
   },
   "outputs": [],
   "source": [
    "from sklearn.feature_extraction.text import TfidfVectorizer"
   ]
  },
  {
   "cell_type": "code",
   "execution_count": null,
   "metadata": {
    "id": "j-mEcDgS1IFe"
   },
   "outputs": [],
   "source": [
    "tfidf = TfidfVectorizer()\n",
    "X = tfidf.fit_transform(review).toarray()\n",
    "X = X.astype(float)"
   ]
  },
  {
   "cell_type": "code",
   "execution_count": null,
   "metadata": {
    "colab": {
     "base_uri": "https://localhost:8080/"
    },
    "id": "udovkJPn1IJM",
    "outputId": "257a8b30-1082-4926-d51e-538bdf10c90e"
   },
   "outputs": [
    {
     "data": {
      "text/plain": [
       "dtype('float64')"
      ]
     },
     "execution_count": 22,
     "metadata": {},
     "output_type": "execute_result"
    }
   ],
   "source": [
    "X.dtype"
   ]
  },
  {
   "cell_type": "code",
   "execution_count": null,
   "metadata": {
    "colab": {
     "base_uri": "https://localhost:8080/"
    },
    "id": "EkUU7oYj094L",
    "outputId": "630ebeb0-e76f-426d-b45b-9bbef1a93b62"
   },
   "outputs": [
    {
     "data": {
      "text/plain": [
       "(558, 2110)"
      ]
     },
     "execution_count": 23,
     "metadata": {},
     "output_type": "execute_result"
    }
   ],
   "source": [
    "X.shape"
   ]
  },
  {
   "cell_type": "code",
   "execution_count": null,
   "metadata": {
    "id": "9qEtojQw2sPw"
   },
   "outputs": [],
   "source": [
    "# train - test split\n",
    "X_train,X_test,y_train,y_test = train_test_split(X,y,test_size = 0.25,stratify = y,\n",
    "                                                 random_state=42)"
   ]
  },
  {
   "cell_type": "code",
   "execution_count": null,
   "metadata": {
    "id": "wia3ISaJClX1"
   },
   "outputs": [],
   "source": [
    "# train - val split\n",
    "X_train, X_val, y_train, y_val = train_test_split(X_train, y_train, test_size=0.20, random_state=42)\n"
   ]
  },
  {
   "cell_type": "code",
   "execution_count": null,
   "metadata": {
    "colab": {
     "base_uri": "https://localhost:8080/"
    },
    "id": "wRGDLeuvCyR9",
    "outputId": "b506e65b-db09-4de3-dbc4-eb000556e36f"
   },
   "outputs": [
    {
     "data": {
      "text/plain": [
       "((334, 2110), (84, 2110), (140, 2110))"
      ]
     },
     "execution_count": 26,
     "metadata": {},
     "output_type": "execute_result"
    }
   ],
   "source": [
    "X_train.shape,X_val.shape,X_test.shape"
   ]
  },
  {
   "cell_type": "code",
   "execution_count": null,
   "metadata": {
    "id": "5VgGxpyk2sTp"
   },
   "outputs": [],
   "source": [
    "import tensorflow as tf\n",
    "from tensorflow import keras\n",
    "\n",
    "from tensorflow.keras.models import Sequential\n",
    "from tensorflow.keras.layers import Dense,Flatten\n"
   ]
  },
  {
   "cell_type": "code",
   "execution_count": null,
   "metadata": {
    "id": "_0qQIryk3hVB"
   },
   "outputs": [],
   "source": [
    "INPUT_DIM = X.shape[1]\n",
    "# NUMBER OF FEATURES"
   ]
  },
  {
   "cell_type": "code",
   "execution_count": null,
   "metadata": {
    "id": "zcWXwNyO0-CL"
   },
   "outputs": [],
   "source": [
    "model_1 = Sequential()\n",
    "model_1.add(Dense(32,input_dim = INPUT_DIM,activation='relu'))\n",
    "model_1.add(Dense(1,activation = 'sigmoid'))"
   ]
  },
  {
   "cell_type": "code",
   "execution_count": null,
   "metadata": {
    "id": "cTRnaNAnzhmc"
   },
   "outputs": [],
   "source": [
    "model_1.compile(loss = 'binary_crossentropy',\n",
    "              optimizer = 'adam',\n",
    "              metrics = ['accuracy'])"
   ]
  },
  {
   "cell_type": "code",
   "execution_count": null,
   "metadata": {
    "colab": {
     "base_uri": "https://localhost:8080/"
    },
    "id": "1HnTxn-LzhsY",
    "outputId": "8f444316-c188-43ed-f887-032cb358ce47"
   },
   "outputs": [
    {
     "name": "stdout",
     "output_type": "stream",
     "text": [
      "Epoch 1/100\n",
      "34/34 [==============================] - 6s 10ms/step - loss: 0.6909 - accuracy: 0.5629 - val_loss: 0.6842 - val_accuracy: 0.7024\n",
      "Epoch 2/100\n",
      "34/34 [==============================] - 0s 4ms/step - loss: 0.6615 - accuracy: 0.9192 - val_loss: 0.6644 - val_accuracy: 0.7976\n",
      "Epoch 3/100\n",
      "34/34 [==============================] - 0s 4ms/step - loss: 0.6102 - accuracy: 0.9820 - val_loss: 0.6283 - val_accuracy: 0.9048\n",
      "Epoch 4/100\n",
      "34/34 [==============================] - 0s 4ms/step - loss: 0.5282 - accuracy: 0.9970 - val_loss: 0.5791 - val_accuracy: 0.9048\n",
      "Epoch 5/100\n",
      "34/34 [==============================] - 0s 4ms/step - loss: 0.4326 - accuracy: 1.0000 - val_loss: 0.5291 - val_accuracy: 0.9048\n",
      "Epoch 6/100\n",
      "34/34 [==============================] - 0s 5ms/step - loss: 0.3414 - accuracy: 1.0000 - val_loss: 0.4818 - val_accuracy: 0.9048\n",
      "Epoch 7/100\n",
      "34/34 [==============================] - 0s 4ms/step - loss: 0.2646 - accuracy: 1.0000 - val_loss: 0.4415 - val_accuracy: 0.9048\n",
      "Epoch 8/100\n",
      "34/34 [==============================] - 0s 4ms/step - loss: 0.2040 - accuracy: 1.0000 - val_loss: 0.4091 - val_accuracy: 0.8929\n",
      "Epoch 9/100\n",
      "34/34 [==============================] - 0s 4ms/step - loss: 0.1588 - accuracy: 1.0000 - val_loss: 0.3820 - val_accuracy: 0.8929\n",
      "Epoch 10/100\n",
      "34/34 [==============================] - 0s 5ms/step - loss: 0.1253 - accuracy: 1.0000 - val_loss: 0.3620 - val_accuracy: 0.8929\n",
      "Epoch 11/100\n",
      "34/34 [==============================] - 0s 4ms/step - loss: 0.1007 - accuracy: 1.0000 - val_loss: 0.3431 - val_accuracy: 0.8929\n",
      "Epoch 12/100\n",
      "34/34 [==============================] - 0s 4ms/step - loss: 0.0820 - accuracy: 1.0000 - val_loss: 0.3309 - val_accuracy: 0.8690\n",
      "Epoch 13/100\n",
      "34/34 [==============================] - 0s 4ms/step - loss: 0.0680 - accuracy: 1.0000 - val_loss: 0.3195 - val_accuracy: 0.8690\n",
      "Epoch 14/100\n",
      "34/34 [==============================] - 0s 5ms/step - loss: 0.0571 - accuracy: 1.0000 - val_loss: 0.3093 - val_accuracy: 0.8690\n",
      "Epoch 15/100\n",
      "34/34 [==============================] - 0s 4ms/step - loss: 0.0485 - accuracy: 1.0000 - val_loss: 0.3031 - val_accuracy: 0.8571\n",
      "Epoch 16/100\n",
      "34/34 [==============================] - 0s 4ms/step - loss: 0.0417 - accuracy: 1.0000 - val_loss: 0.2953 - val_accuracy: 0.8571\n",
      "Epoch 17/100\n",
      "34/34 [==============================] - 0s 4ms/step - loss: 0.0362 - accuracy: 1.0000 - val_loss: 0.2902 - val_accuracy: 0.8571\n",
      "Epoch 18/100\n",
      "34/34 [==============================] - 0s 4ms/step - loss: 0.0316 - accuracy: 1.0000 - val_loss: 0.2879 - val_accuracy: 0.8452\n",
      "Epoch 19/100\n",
      "34/34 [==============================] - 0s 4ms/step - loss: 0.0279 - accuracy: 1.0000 - val_loss: 0.2829 - val_accuracy: 0.8571\n",
      "Epoch 20/100\n",
      "34/34 [==============================] - 0s 4ms/step - loss: 0.0249 - accuracy: 1.0000 - val_loss: 0.2791 - val_accuracy: 0.8571\n",
      "Epoch 21/100\n",
      "34/34 [==============================] - 0s 4ms/step - loss: 0.0222 - accuracy: 1.0000 - val_loss: 0.2777 - val_accuracy: 0.8452\n",
      "Epoch 22/100\n",
      "34/34 [==============================] - 0s 4ms/step - loss: 0.0199 - accuracy: 1.0000 - val_loss: 0.2745 - val_accuracy: 0.8571\n",
      "Epoch 23/100\n",
      "34/34 [==============================] - 0s 5ms/step - loss: 0.0181 - accuracy: 1.0000 - val_loss: 0.2727 - val_accuracy: 0.8452\n",
      "Epoch 24/100\n",
      "34/34 [==============================] - 0s 4ms/step - loss: 0.0164 - accuracy: 1.0000 - val_loss: 0.2700 - val_accuracy: 0.8571\n",
      "Epoch 25/100\n",
      "34/34 [==============================] - 0s 4ms/step - loss: 0.0150 - accuracy: 1.0000 - val_loss: 0.2700 - val_accuracy: 0.8452\n",
      "Epoch 26/100\n",
      "34/34 [==============================] - 0s 4ms/step - loss: 0.0137 - accuracy: 1.0000 - val_loss: 0.2686 - val_accuracy: 0.8452\n",
      "Epoch 27/100\n",
      "34/34 [==============================] - 0s 4ms/step - loss: 0.0126 - accuracy: 1.0000 - val_loss: 0.2673 - val_accuracy: 0.8452\n",
      "Epoch 28/100\n",
      "34/34 [==============================] - 0s 4ms/step - loss: 0.0117 - accuracy: 1.0000 - val_loss: 0.2665 - val_accuracy: 0.8452\n",
      "Epoch 29/100\n",
      "34/34 [==============================] - 0s 4ms/step - loss: 0.0108 - accuracy: 1.0000 - val_loss: 0.2662 - val_accuracy: 0.8452\n",
      "Epoch 30/100\n",
      "34/34 [==============================] - 0s 5ms/step - loss: 0.0101 - accuracy: 1.0000 - val_loss: 0.2657 - val_accuracy: 0.8571\n",
      "Epoch 31/100\n",
      "34/34 [==============================] - 0s 4ms/step - loss: 0.0094 - accuracy: 1.0000 - val_loss: 0.2652 - val_accuracy: 0.8571\n",
      "Epoch 32/100\n",
      "34/34 [==============================] - 0s 4ms/step - loss: 0.0088 - accuracy: 1.0000 - val_loss: 0.2641 - val_accuracy: 0.8571\n",
      "Epoch 33/100\n",
      "34/34 [==============================] - 0s 4ms/step - loss: 0.0082 - accuracy: 1.0000 - val_loss: 0.2636 - val_accuracy: 0.8571\n",
      "Epoch 34/100\n",
      "34/34 [==============================] - 0s 4ms/step - loss: 0.0077 - accuracy: 1.0000 - val_loss: 0.2653 - val_accuracy: 0.8571\n",
      "Epoch 35/100\n",
      "34/34 [==============================] - 0s 4ms/step - loss: 0.0072 - accuracy: 1.0000 - val_loss: 0.2655 - val_accuracy: 0.8571\n",
      "Epoch 36/100\n",
      "34/34 [==============================] - 0s 4ms/step - loss: 0.0068 - accuracy: 1.0000 - val_loss: 0.2655 - val_accuracy: 0.8571\n",
      "Epoch 37/100\n",
      "34/34 [==============================] - 0s 5ms/step - loss: 0.0064 - accuracy: 1.0000 - val_loss: 0.2652 - val_accuracy: 0.8571\n",
      "Epoch 38/100\n",
      "34/34 [==============================] - 0s 4ms/step - loss: 0.0060 - accuracy: 1.0000 - val_loss: 0.2662 - val_accuracy: 0.8571\n",
      "Epoch 39/100\n",
      "34/34 [==============================] - 0s 4ms/step - loss: 0.0057 - accuracy: 1.0000 - val_loss: 0.2653 - val_accuracy: 0.8571\n",
      "Epoch 40/100\n",
      "34/34 [==============================] - 0s 4ms/step - loss: 0.0054 - accuracy: 1.0000 - val_loss: 0.2660 - val_accuracy: 0.8452\n",
      "Epoch 41/100\n",
      "34/34 [==============================] - 0s 4ms/step - loss: 0.0051 - accuracy: 1.0000 - val_loss: 0.2658 - val_accuracy: 0.8452\n",
      "Epoch 42/100\n",
      "34/34 [==============================] - 0s 4ms/step - loss: 0.0049 - accuracy: 1.0000 - val_loss: 0.2659 - val_accuracy: 0.8452\n",
      "Epoch 43/100\n",
      "34/34 [==============================] - 0s 4ms/step - loss: 0.0046 - accuracy: 1.0000 - val_loss: 0.2673 - val_accuracy: 0.8452\n",
      "Epoch 44/100\n",
      "34/34 [==============================] - 0s 4ms/step - loss: 0.0044 - accuracy: 1.0000 - val_loss: 0.2685 - val_accuracy: 0.8452\n",
      "Epoch 45/100\n",
      "34/34 [==============================] - 0s 4ms/step - loss: 0.0042 - accuracy: 1.0000 - val_loss: 0.2682 - val_accuracy: 0.8452\n",
      "Epoch 46/100\n",
      "34/34 [==============================] - 0s 4ms/step - loss: 0.0040 - accuracy: 1.0000 - val_loss: 0.2689 - val_accuracy: 0.8452\n",
      "Epoch 47/100\n",
      "34/34 [==============================] - 0s 4ms/step - loss: 0.0038 - accuracy: 1.0000 - val_loss: 0.2698 - val_accuracy: 0.8452\n",
      "Epoch 48/100\n",
      "34/34 [==============================] - 0s 4ms/step - loss: 0.0036 - accuracy: 1.0000 - val_loss: 0.2705 - val_accuracy: 0.8452\n",
      "Epoch 49/100\n",
      "34/34 [==============================] - 0s 4ms/step - loss: 0.0035 - accuracy: 1.0000 - val_loss: 0.2716 - val_accuracy: 0.8452\n",
      "Epoch 50/100\n",
      "34/34 [==============================] - 0s 4ms/step - loss: 0.0033 - accuracy: 1.0000 - val_loss: 0.2707 - val_accuracy: 0.8452\n",
      "Epoch 51/100\n",
      "34/34 [==============================] - 0s 4ms/step - loss: 0.0032 - accuracy: 1.0000 - val_loss: 0.2715 - val_accuracy: 0.8452\n",
      "Epoch 52/100\n",
      "34/34 [==============================] - 0s 4ms/step - loss: 0.0031 - accuracy: 1.0000 - val_loss: 0.2744 - val_accuracy: 0.8452\n",
      "Epoch 53/100\n",
      "34/34 [==============================] - 0s 4ms/step - loss: 0.0029 - accuracy: 1.0000 - val_loss: 0.2737 - val_accuracy: 0.8452\n",
      "Epoch 54/100\n",
      "34/34 [==============================] - 0s 4ms/step - loss: 0.0028 - accuracy: 1.0000 - val_loss: 0.2767 - val_accuracy: 0.8452\n",
      "Epoch 55/100\n",
      "34/34 [==============================] - 0s 4ms/step - loss: 0.0027 - accuracy: 1.0000 - val_loss: 0.2747 - val_accuracy: 0.8452\n",
      "Epoch 56/100\n",
      "34/34 [==============================] - 0s 4ms/step - loss: 0.0026 - accuracy: 1.0000 - val_loss: 0.2783 - val_accuracy: 0.8452\n",
      "Epoch 57/100\n",
      "34/34 [==============================] - 0s 5ms/step - loss: 0.0025 - accuracy: 1.0000 - val_loss: 0.2769 - val_accuracy: 0.8452\n",
      "Epoch 58/100\n",
      "34/34 [==============================] - 0s 4ms/step - loss: 0.0024 - accuracy: 1.0000 - val_loss: 0.2785 - val_accuracy: 0.8452\n",
      "Epoch 59/100\n",
      "34/34 [==============================] - 0s 4ms/step - loss: 0.0023 - accuracy: 1.0000 - val_loss: 0.2802 - val_accuracy: 0.8452\n",
      "Epoch 60/100\n",
      "34/34 [==============================] - 0s 4ms/step - loss: 0.0022 - accuracy: 1.0000 - val_loss: 0.2808 - val_accuracy: 0.8452\n",
      "Epoch 61/100\n",
      "34/34 [==============================] - 0s 4ms/step - loss: 0.0022 - accuracy: 1.0000 - val_loss: 0.2814 - val_accuracy: 0.8452\n",
      "Epoch 62/100\n",
      "34/34 [==============================] - 0s 5ms/step - loss: 0.0021 - accuracy: 1.0000 - val_loss: 0.2833 - val_accuracy: 0.8452\n",
      "Epoch 63/100\n",
      "34/34 [==============================] - 0s 4ms/step - loss: 0.0020 - accuracy: 1.0000 - val_loss: 0.2835 - val_accuracy: 0.8452\n",
      "Epoch 64/100\n",
      "34/34 [==============================] - 0s 6ms/step - loss: 0.0019 - accuracy: 1.0000 - val_loss: 0.2846 - val_accuracy: 0.8452\n",
      "Epoch 65/100\n",
      "34/34 [==============================] - 0s 7ms/step - loss: 0.0019 - accuracy: 1.0000 - val_loss: 0.2845 - val_accuracy: 0.8452\n",
      "Epoch 66/100\n",
      "34/34 [==============================] - 0s 8ms/step - loss: 0.0018 - accuracy: 1.0000 - val_loss: 0.2900 - val_accuracy: 0.8452\n",
      "Epoch 67/100\n",
      "34/34 [==============================] - 0s 7ms/step - loss: 0.0017 - accuracy: 1.0000 - val_loss: 0.2914 - val_accuracy: 0.8452\n",
      "Epoch 68/100\n",
      "34/34 [==============================] - 0s 7ms/step - loss: 0.0017 - accuracy: 1.0000 - val_loss: 0.2913 - val_accuracy: 0.8452\n",
      "Epoch 69/100\n",
      "34/34 [==============================] - 0s 7ms/step - loss: 0.0016 - accuracy: 1.0000 - val_loss: 0.2918 - val_accuracy: 0.8452\n",
      "Epoch 70/100\n",
      "34/34 [==============================] - 0s 7ms/step - loss: 0.0016 - accuracy: 1.0000 - val_loss: 0.2921 - val_accuracy: 0.8452\n",
      "Epoch 71/100\n",
      "34/34 [==============================] - 0s 7ms/step - loss: 0.0015 - accuracy: 1.0000 - val_loss: 0.2923 - val_accuracy: 0.8452\n",
      "Epoch 72/100\n",
      "34/34 [==============================] - 0s 7ms/step - loss: 0.0015 - accuracy: 1.0000 - val_loss: 0.2925 - val_accuracy: 0.8452\n",
      "Epoch 73/100\n",
      "34/34 [==============================] - 0s 7ms/step - loss: 0.0014 - accuracy: 1.0000 - val_loss: 0.2920 - val_accuracy: 0.8452\n",
      "Epoch 74/100\n",
      "34/34 [==============================] - 0s 7ms/step - loss: 0.0014 - accuracy: 1.0000 - val_loss: 0.2980 - val_accuracy: 0.8333\n",
      "Epoch 75/100\n",
      "34/34 [==============================] - 0s 7ms/step - loss: 0.0013 - accuracy: 1.0000 - val_loss: 0.2973 - val_accuracy: 0.8333\n",
      "Epoch 76/100\n",
      "34/34 [==============================] - 0s 6ms/step - loss: 0.0013 - accuracy: 1.0000 - val_loss: 0.2984 - val_accuracy: 0.8333\n",
      "Epoch 77/100\n",
      "34/34 [==============================] - 0s 8ms/step - loss: 0.0013 - accuracy: 1.0000 - val_loss: 0.2982 - val_accuracy: 0.8333\n",
      "Epoch 78/100\n",
      "34/34 [==============================] - 0s 4ms/step - loss: 0.0012 - accuracy: 1.0000 - val_loss: 0.3006 - val_accuracy: 0.8333\n",
      "Epoch 79/100\n",
      "34/34 [==============================] - 0s 4ms/step - loss: 0.0012 - accuracy: 1.0000 - val_loss: 0.3017 - val_accuracy: 0.8333\n",
      "Epoch 80/100\n",
      "34/34 [==============================] - 0s 4ms/step - loss: 0.0011 - accuracy: 1.0000 - val_loss: 0.3012 - val_accuracy: 0.8333\n",
      "Epoch 81/100\n",
      "34/34 [==============================] - 0s 4ms/step - loss: 0.0011 - accuracy: 1.0000 - val_loss: 0.3037 - val_accuracy: 0.8333\n",
      "Epoch 82/100\n",
      "34/34 [==============================] - 0s 4ms/step - loss: 0.0011 - accuracy: 1.0000 - val_loss: 0.3046 - val_accuracy: 0.8333\n",
      "Epoch 83/100\n",
      "34/34 [==============================] - 0s 4ms/step - loss: 0.0010 - accuracy: 1.0000 - val_loss: 0.3055 - val_accuracy: 0.8333\n",
      "Epoch 84/100\n",
      "34/34 [==============================] - 0s 4ms/step - loss: 0.0010 - accuracy: 1.0000 - val_loss: 0.3066 - val_accuracy: 0.8333\n",
      "Epoch 85/100\n",
      "34/34 [==============================] - 0s 4ms/step - loss: 9.8569e-04 - accuracy: 1.0000 - val_loss: 0.3066 - val_accuracy: 0.8333\n",
      "Epoch 86/100\n",
      "34/34 [==============================] - 0s 4ms/step - loss: 9.5581e-04 - accuracy: 1.0000 - val_loss: 0.3076 - val_accuracy: 0.8333\n",
      "Epoch 87/100\n",
      "34/34 [==============================] - 0s 4ms/step - loss: 9.2810e-04 - accuracy: 1.0000 - val_loss: 0.3107 - val_accuracy: 0.8333\n",
      "Epoch 88/100\n",
      "34/34 [==============================] - 0s 4ms/step - loss: 9.0517e-04 - accuracy: 1.0000 - val_loss: 0.3132 - val_accuracy: 0.8333\n",
      "Epoch 89/100\n",
      "34/34 [==============================] - 0s 4ms/step - loss: 8.7762e-04 - accuracy: 1.0000 - val_loss: 0.3135 - val_accuracy: 0.8333\n",
      "Epoch 90/100\n",
      "34/34 [==============================] - 0s 4ms/step - loss: 8.5188e-04 - accuracy: 1.0000 - val_loss: 0.3139 - val_accuracy: 0.8333\n",
      "Epoch 91/100\n",
      "34/34 [==============================] - 0s 4ms/step - loss: 8.2945e-04 - accuracy: 1.0000 - val_loss: 0.3149 - val_accuracy: 0.8333\n",
      "Epoch 92/100\n",
      "34/34 [==============================] - 0s 4ms/step - loss: 8.0588e-04 - accuracy: 1.0000 - val_loss: 0.3159 - val_accuracy: 0.8333\n",
      "Epoch 93/100\n",
      "34/34 [==============================] - 0s 4ms/step - loss: 7.8758e-04 - accuracy: 1.0000 - val_loss: 0.3178 - val_accuracy: 0.8333\n",
      "Epoch 94/100\n",
      "34/34 [==============================] - 0s 4ms/step - loss: 7.6294e-04 - accuracy: 1.0000 - val_loss: 0.3181 - val_accuracy: 0.8333\n",
      "Epoch 95/100\n",
      "34/34 [==============================] - 0s 4ms/step - loss: 7.4291e-04 - accuracy: 1.0000 - val_loss: 0.3192 - val_accuracy: 0.8333\n",
      "Epoch 96/100\n",
      "34/34 [==============================] - 0s 4ms/step - loss: 7.2268e-04 - accuracy: 1.0000 - val_loss: 0.3197 - val_accuracy: 0.8333\n",
      "Epoch 97/100\n",
      "34/34 [==============================] - 0s 4ms/step - loss: 7.0386e-04 - accuracy: 1.0000 - val_loss: 0.3220 - val_accuracy: 0.8333\n",
      "Epoch 98/100\n",
      "34/34 [==============================] - 0s 4ms/step - loss: 6.8550e-04 - accuracy: 1.0000 - val_loss: 0.3220 - val_accuracy: 0.8333\n",
      "Epoch 99/100\n",
      "34/34 [==============================] - 0s 4ms/step - loss: 6.6816e-04 - accuracy: 1.0000 - val_loss: 0.3238 - val_accuracy: 0.8333\n",
      "Epoch 100/100\n",
      "34/34 [==============================] - 0s 5ms/step - loss: 6.5158e-04 - accuracy: 1.0000 - val_loss: 0.3265 - val_accuracy: 0.8333\n"
     ]
    }
   ],
   "source": [
    "model1_history = model_1.fit(X_train,y_train,validation_data=(X_val, y_val),epochs=100,batch_size=10)"
   ]
  },
  {
   "cell_type": "code",
   "execution_count": null,
   "metadata": {
    "colab": {
     "base_uri": "https://localhost:8080/"
    },
    "id": "h701LbwYP7xQ",
    "outputId": "0371d05c-08d6-476d-956d-4c45f045ac04"
   },
   "outputs": [
    {
     "name": "stdout",
     "output_type": "stream",
     "text": [
      "1.0\n"
     ]
    }
   ],
   "source": [
    "print(max(model1_history.history['accuracy']))"
   ]
  },
  {
   "cell_type": "code",
   "execution_count": null,
   "metadata": {
    "id": "uZMrHVe9zhvM"
   },
   "outputs": [],
   "source": [
    "import matplotlib.pyplot as plt\n",
    "def accuracy(model):\n",
    "  plt.plot(model.history['accuracy'])\n",
    "  plt.plot(model.history['val_accuracy'])\n",
    "  plt.title(f\"{model}  Accuracy \")\n",
    "  plt.ylabel(\"Accuracy\")\n",
    "  plt.xlabel(\"Epochs\")\n",
    "  plt.legend(['Train','Test'],loc='best')\n",
    "  plt.show()\n",
    "\n",
    "\n",
    "def loss_plot(model):\n",
    "  plt.plot(model.history['loss'])\n",
    "  plt.plot(model.history['val_loss'])\n",
    "  plt.title(f\"{model} Loss \")\n",
    "  plt.ylabel(\"Loss\")\n",
    "  plt.xlabel(\"Epochs\")\n",
    "  plt.legend(['Train','Test'],loc='best')\n",
    "  plt.show()\n"
   ]
  },
  {
   "cell_type": "code",
   "execution_count": null,
   "metadata": {
    "colab": {
     "base_uri": "https://localhost:8080/",
     "height": 472
    },
    "id": "u6HjRWCuy7_x",
    "outputId": "8d4480da-fc45-41ea-8344-a2f6d98d0926"
   },
   "outputs": [
    {
     "data": {
      "image/png": "[encoded data removed]",
      "text/plain": [
       "<Figure size 640x480 with 1 Axes>"
      ]
     },
     "metadata": {},
     "output_type": "display_data"
    }
   ],
   "source": [
    "accuracy(model1_history)"
   ]
  },
  {
   "cell_type": "code",
   "execution_count": null,
   "metadata": {
    "colab": {
     "base_uri": "https://localhost:8080/",
     "height": 472
    },
    "id": "oRGBXQ3TyhN-",
    "outputId": "f67b9ad0-9776-453a-a9e3-1eef39449b44"
   },
   "outputs": [
    {
     "data": {
      "image/png": "[encoded data removed]",
      "text/plain": [
       "<Figure size 640x480 with 1 Axes>"
      ]
     },
     "metadata": {},
     "output_type": "display_data"
    }
   ],
   "source": [
    "loss_plot(model1_history)"
   ]
  },
  {
   "cell_type": "markdown",
   "metadata": {
    "id": "1TyWQU-1QaHd"
   },
   "source": [
    "# **Using Keras Tuner**"
   ]
  },
  {
   "cell_type": "code",
   "execution_count": null,
   "metadata": {
    "colab": {
     "base_uri": "https://localhost:8080/"
    },
    "id": "QeCnQXC-9MgK",
    "outputId": "c8c2ed6a-14db-4070-9094-a2a17f603a8d"
   },
   "outputs": [
    {
     "name": "stdout",
     "output_type": "stream",
     "text": [
      "Collecting keras-tuner\n",
      "  Downloading keras_tuner-1.3.5-py3-none-any.whl (176 kB)\n",
      "\u001b[?25l     \u001b[90m━━━━━━━━━━━━━━━━━━━━━━━━━━━━━━━━━━━━━━━━\u001b[0m \u001b[32m0.0/176.1 kB\u001b[0m \u001b[31m?\u001b[0m eta \u001b[36m-:--:--\u001b[0m\r",
      "\u001b[2K     \u001b[91m━━━━━━━━━━━━━━━━━━━━\u001b[0m\u001b[91m╸\u001b[0m\u001b[90m━━━━━━━━━━━━━━━━━━━\u001b[0m \u001b[32m92.2/176.1 kB\u001b[0m \u001b[31m2.9 MB/s\u001b[0m eta \u001b[36m0:00:01\u001b[0m\r",
      "\u001b[2K     \u001b[90m━━━━━━━━━━━━━━━━━━━━━━━━━━━━━━━━━━━━━━━\u001b[0m \u001b[32m176.1/176.1 kB\u001b[0m \u001b[31m3.7 MB/s\u001b[0m eta \u001b[36m0:00:00\u001b[0m\n",
      "\u001b[?25hRequirement already satisfied: packaging in /usr/local/lib/python3.10/dist-packages (from keras-tuner) (23.1)\n",
      "Requirement already satisfied: requests in /usr/local/lib/python3.10/dist-packages (from keras-tuner) (2.27.1)\n",
      "Collecting kt-legacy (from keras-tuner)\n",
      "  Downloading kt_legacy-1.0.5-py3-none-any.whl (9.6 kB)\n",
      "Requirement already satisfied: urllib3<1.27,>=1.21.1 in /usr/local/lib/python3.10/dist-packages (from requests->keras-tuner) (1.26.16)\n",
      "Requirement already satisfied: certifi>=2017.4.17 in /usr/local/lib/python3.10/dist-packages (from requests->keras-tuner) (2023.7.22)\n",
      "Requirement already satisfied: charset-normalizer~=2.0.0 in /usr/local/lib/python3.10/dist-packages (from requests->keras-tuner) (2.0.12)\n",
      "Requirement already satisfied: idna<4,>=2.5 in /usr/local/lib/python3.10/dist-packages (from requests->keras-tuner) (3.4)\n",
      "Installing collected packages: kt-legacy, keras-tuner\n",
      "Successfully installed keras-tuner-1.3.5 kt-legacy-1.0.5\n"
     ]
    }
   ],
   "source": [
    "! pip install -U keras-tuner"
   ]
  },
  {
   "cell_type": "code",
   "execution_count": null,
   "metadata": {
    "colab": {
     "base_uri": "https://localhost:8080/"
    },
    "id": "-tWD-Lcz9CLL",
    "outputId": "983c3142-eb96-4b27-9bd0-c8cf05b1b0cb"
   },
   "outputs": [
    {
     "name": "stderr",
     "output_type": "stream",
     "text": [
      "<ipython-input-37-94471a811b41>:1: DeprecationWarning: `import kerastuner` is deprecated, please use `import keras_tuner`.\n",
      "  from kerastuner.tuners import RandomSearch\n"
     ]
    }
   ],
   "source": [
    "from kerastuner.tuners import RandomSearch"
   ]
  },
  {
   "cell_type": "code",
   "execution_count": null,
   "metadata": {
    "id": "LJeURxXiyhVP"
   },
   "outputs": [],
   "source": [
    "def model_building(hp):\n",
    "  model_dnn = Sequential()\n",
    "  model_dnn.add(Dense(units = hp.Int('units',\n",
    "                                     min_value=32,\n",
    "                                     max_value =1024,\n",
    "                                     step =128),input_dim = INPUT_DIM,activation='relu'))\n",
    "  model_dnn.add(Dense(1,activation = 'sigmoid'))\n",
    "  model_dnn.compile(optimizer='adam', loss='binary_crossentropy', metrics=['accuracy'])\n",
    "  return model_dnn"
   ]
  },
  {
   "cell_type": "code",
   "execution_count": null,
   "metadata": {
    "id": "cZBEJWXW-rWo"
   },
   "outputs": [],
   "source": [
    "! mkdir mydir"
   ]
  },
  {
   "cell_type": "code",
   "execution_count": null,
   "metadata": {
    "id": "z6QeezXw8a7c"
   },
   "outputs": [],
   "source": [
    "tuner = RandomSearch(model_building,\n",
    "                     objective = 'val_accuracy',\n",
    "                     max_trials = 5,\n",
    "                     executions_per_trial = 3,\n",
    "                     directory = 'mydir',\n",
    "                     project_name = 'dnn_model')"
   ]
  },
  {
   "cell_type": "code",
   "execution_count": null,
   "metadata": {
    "colab": {
     "base_uri": "https://localhost:8080/"
    },
    "id": "sYKUgSE-8iYC",
    "outputId": "dc68a693-9711-4e18-aef5-791f32105bc5"
   },
   "outputs": [
    {
     "name": "stdout",
     "output_type": "stream",
     "text": [
      "Search space summary\n",
      "Default search space size: 1\n",
      "units (Int)\n",
      "{'default': None, 'conditions': [], 'min_value': 32, 'max_value': 1024, 'step': 128, 'sampling': 'linear'}\n"
     ]
    }
   ],
   "source": [
    "tuner.search_space_summary()"
   ]
  },
  {
   "cell_type": "code",
   "execution_count": null,
   "metadata": {
    "colab": {
     "base_uri": "https://localhost:8080/"
    },
    "id": "CsWvIq948iad",
    "outputId": "a1e2efb8-3104-487f-918a-920d5ea9b3ed"
   },
   "outputs": [
    {
     "name": "stdout",
     "output_type": "stream",
     "text": [
      "Trial 5 Complete [00h 00m 07s]\n",
      "val_accuracy: 0.8611111243565878\n",
      "\n",
      "Best val_accuracy So Far: 0.9047618905703226\n",
      "Total elapsed time: 00h 00m 35s\n"
     ]
    }
   ],
   "source": [
    "tuner.search(X_train,y_train,epochs=5,\n",
    "             validation_data = (X_val, y_val),\n",
    "             callbacks=[keras.callbacks.TensorBoard(\"/content/mydir\")])"
   ]
  },
  {
   "cell_type": "code",
   "execution_count": null,
   "metadata": {
    "colab": {
     "base_uri": "https://localhost:8080/"
    },
    "id": "avmOoTst8ic7",
    "outputId": "1d453a1c-a9a7-472a-e452-208ee94fc5ad"
   },
   "outputs": [
    {
     "name": "stdout",
     "output_type": "stream",
     "text": [
      "Results summary\n",
      "Results in mydir/dnn_model\n",
      "Showing 10 best trials\n",
      "Objective(name=\"val_accuracy\", direction=\"max\")\n",
      "\n",
      "Trial 2 summary\n",
      "Hyperparameters:\n",
      "units: 288\n",
      "Score: 0.9047618905703226\n",
      "\n",
      "Trial 1 summary\n",
      "Hyperparameters:\n",
      "units: 416\n",
      "Score: 0.8809523781140646\n",
      "\n",
      "Trial 0 summary\n",
      "Hyperparameters:\n",
      "units: 544\n",
      "Score: 0.8809523582458496\n",
      "\n",
      "Trial 3 summary\n",
      "Hyperparameters:\n",
      "units: 672\n",
      "Score: 0.8690476218859354\n",
      "\n",
      "Trial 4 summary\n",
      "Hyperparameters:\n",
      "units: 160\n",
      "Score: 0.8611111243565878\n"
     ]
    }
   ],
   "source": [
    "tuner.results_summary()"
   ]
  },
  {
   "cell_type": "code",
   "execution_count": null,
   "metadata": {
    "colab": {
     "base_uri": "https://localhost:8080/",
     "height": 307
    },
    "id": "MhUgwXiXH_-7",
    "outputId": "43068def-e6b2-46c1-a17e-401fb848a195"
   },
   "outputs": [
    {
     "data": {
      "image/png": "[encoded data removed]",
      "text/plain": [
       "<Figure size 300x300 with 1 Axes>"
      ]
     },
     "metadata": {},
     "output_type": "display_data"
    }
   ],
   "source": [
    "import matplotlib.pyplot as plt\n",
    "\n",
    "\n",
    "results = {'928_nodes': 0.8849206368128458, '672_nodes': 0.8769841194152832, '544_nodes': 0.8571428656578064,\n",
    "           '288_nodes': 0.8452380895614624, '32_nodes':0.8134920597076416}\n",
    "\n",
    "\n",
    "model_configs = list(results.keys())\n",
    "accuracies = list(results.values())\n",
    "\n",
    "\n",
    "plt.figure(figsize=(3, 3))\n",
    "plt.bar(model_configs, accuracies)\n",
    "plt.xlabel('Model Configurations')\n",
    "plt.ylabel('Accuracy')\n",
    "plt.title('Accuracy of Keras Tuner Models')\n",
    "plt.xticks(rotation=45, ha='right')\n",
    "\n",
    "\n",
    "plt.tight_layout()\n",
    "plt.show()\n"
   ]
  },
  {
   "cell_type": "markdown",
   "metadata": {
    "id": "kJ1Kv4HmPeEn"
   },
   "source": [
    "### Configuration 2"
   ]
  },
  {
   "cell_type": "code",
   "execution_count": null,
   "metadata": {
    "id": "R4mPUre8MC7B"
   },
   "outputs": [],
   "source": [
    "# Define the hyperparameters for the search space\n",
    "num_layers = [2, 3, 4, 5]\n",
    "num_nodes = 32"
   ]
  },
  {
   "cell_type": "code",
   "execution_count": null,
   "metadata": {
    "colab": {
     "base_uri": "https://localhost:8080/"
    },
    "id": "aICbWi7yNiMQ",
    "outputId": "1fc87fb4-03b7-4888-f525-e7a11133324f"
   },
   "outputs": [
    {
     "name": "stdout",
     "output_type": "stream",
     "text": [
      "mkdir: cannot create directory ‘/content/hp_tuning/model2’: No such file or directory\n"
     ]
    }
   ],
   "source": [
    "! mkdir /content/hp_tuning/model2"
   ]
  },
  {
   "cell_type": "code",
   "execution_count": null,
   "metadata": {
    "id": "vStHKhgiE7PL"
   },
   "outputs": [],
   "source": [
    "! mkdir keras_tuner_results"
   ]
  },
  {
   "cell_type": "code",
   "execution_count": null,
   "metadata": {
    "id": "E_3HerXNE7Lz"
   },
   "outputs": [],
   "source": [
    "! mkdir keras_tuner_results/tuning"
   ]
  },
  {
   "cell_type": "code",
   "execution_count": null,
   "metadata": {
    "id": "uX2iAE_SDwNJ"
   },
   "outputs": [],
   "source": [
    "\n",
    "def model_building(hp, input_dim, num_layers):\n",
    "    model_dnn = Sequential()\n",
    "\n",
    "    # Add the first hidden layer with input_dim\n",
    "    model_dnn.add(Dense(units=hp.Int('units_0', min_value=32, max_value=1024, step=128),\n",
    "                        input_dim=input_dim,\n",
    "                        activation='relu'))\n",
    "\n",
    "    # Add additional hidden layers based on num_layers\n",
    "    for i in range(1, num_layers):\n",
    "        model_dnn.add(Dense(units=hp.Int(f'units_{i}', min_value=32, max_value=1024, step=128),\n",
    "                            activation='relu'))\n",
    "\n",
    "    # Add the output layer with 1 unit and sigmoid activation\n",
    "    model_dnn.add(Dense(1, activation='sigmoid'))\n",
    "\n",
    "    model_dnn.compile(optimizer='adam',\n",
    "                      loss='binary_crossentropy',\n",
    "                      metrics=['accuracy'])\n",
    "\n",
    "    return model_dnn\n"
   ]
  },
  {
   "cell_type": "code",
   "execution_count": null,
   "metadata": {
    "id": "gFboZC40PQkD"
   },
   "outputs": [],
   "source": [
    "tuner2 = RandomSearch(model_building,\n",
    "                     objective = 'val_accuracy',\n",
    "                     max_trials = 5,\n",
    "                     executions_per_trial = 3,\n",
    "                     directory = 'mydir',\n",
    "                     project_name = 'dnn_model')"
   ]
  },
  {
   "cell_type": "code",
   "execution_count": null,
   "metadata": {
    "id": "lu1Xs1kIFdN1"
   },
   "outputs": [],
   "source": [
    "tuner2.search(X_train,y_train,epochs=5,\n",
    "             validation_data = (X_val, y_val),\n",
    "             callbacks=[keras.callbacks.TensorBoard(\"/content/mydir\")])"
   ]
  },
  {
   "cell_type": "code",
   "execution_count": null,
   "metadata": {
    "colab": {
     "base_uri": "https://localhost:8080/"
    },
    "id": "b9IXCkcMBD7o",
    "outputId": "bcbc6ccb-016c-4375-b2fc-f97fd7af3893"
   },
   "outputs": [
    {
     "name": "stdout",
     "output_type": "stream",
     "text": [
      "Results summary\n",
      "Results in mydir/dnn_model\n",
      "Showing 10 best trials\n",
      "Objective(name=\"val_accuracy\", direction=\"max\")\n",
      "\n",
      "Trial 2 summary\n",
      "Hyperparameters:\n",
      "units: 288\n",
      "Score: 0.9047618905703226\n",
      "\n",
      "Trial 1 summary\n",
      "Hyperparameters:\n",
      "units: 416\n",
      "Score: 0.8809523781140646\n",
      "\n",
      "Trial 0 summary\n",
      "Hyperparameters:\n",
      "units: 544\n",
      "Score: 0.8809523582458496\n",
      "\n",
      "Trial 3 summary\n",
      "Hyperparameters:\n",
      "units: 672\n",
      "Score: 0.8690476218859354\n",
      "\n",
      "Trial 4 summary\n",
      "Hyperparameters:\n",
      "units: 160\n",
      "Score: 0.8611111243565878\n"
     ]
    }
   ],
   "source": [
    "tuner2.results_summary()"
   ]
  },
  {
   "cell_type": "code",
   "execution_count": null,
   "metadata": {
    "id": "5NKiYvEQvq1K"
   },
   "outputs": [],
   "source": []
  },
  {
   "cell_type": "code",
   "execution_count": null,
   "metadata": {
    "id": "sdQNvLKpvq3c"
   },
   "outputs": [],
   "source": []
  },
  {
   "cell_type": "code",
   "execution_count": null,
   "metadata": {
    "id": "X9HV-OyVvq6F"
   },
   "outputs": [],
   "source": []
  },
  {
   "cell_type": "code",
   "execution_count": null,
   "metadata": {
    "id": "GptfYg5Fvq8d"
   },
   "outputs": [],
   "source": []
  },
  {
   "cell_type": "code",
   "execution_count": null,
   "metadata": {
    "id": "2LhDgCUIvrAR"
   },
   "outputs": [],
   "source": []
  },
  {
   "cell_type": "code",
   "execution_count": null,
   "metadata": {
    "id": "5IyTTyRlvLqs"
   },
   "outputs": [],
   "source": []
  },
  {
   "cell_type": "code",
   "execution_count": null,
   "metadata": {
    "id": "sgtgnb8qsdO_"
   },
   "outputs": [],
   "source": []
  }
 ],
 "metadata": {
  "accelerator": "GPU",
  "colab": {
   "gpuType": "T4",
   "provenance": []
  },
  "kernelspec": {
   "display_name": "Python 3 (ipykernel)",
   "language": "python",
   "name": "python3"
  },
  "language_info": {
   "codemirror_mode": {
    "name": "ipython",
    "version": 3
   },
   "file_extension": ".py",
   "mimetype": "text/x-python",
   "name": "python",
   "nbconvert_exporter": "python",
   "pygments_lexer": "ipython3",
   "version": "3.9.12"
  }
 },
 "nbformat": 4,
 "nbformat_minor": 1
}
