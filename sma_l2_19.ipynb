{
 "cells": [
  {
   "cell_type": "markdown",
   "id": "51dec223",
   "metadata": {},
   "source": [
    "#### Rollno: 225229119\n",
    "#### Name: Mukesh Jaikumar N"
   ]
  },
  {
   "cell_type": "markdown",
   "id": "888640d6",
   "metadata": {},
   "source": [
    "# Lab2. Querying user's connection using Facebook using the Graph API and retrieving feed and engagement"
   ]
  },
  {
   "cell_type": "markdown",
   "id": "0e8b51cf",
   "metadata": {},
   "source": [
    "## step 1"
   ]
  },
  {
   "cell_type": "code",
   "execution_count": 17,
   "id": "950e8fb2",
   "metadata": {},
   "outputs": [],
   "source": [
    "ACCESS_TOKEN = \"EAAIrmUmPQ18BADeApDsSBsRzu1xWtvmhAb0LGxJ8CAd3iBZAzkQFdQcmw7j9AKahV4ETo1ihANNBeB4D8ygNyf09l8uXBfgg4HWutj5wviAV3JKxImeA3RexExgqO1BohTC4TuXB70NF0ZBYzAc4ZBD8MnHP1UQI6lsr0bvJSUF0bvjgaoFLuF1FjvAnvweFuNo3nZC8pEluJLLjZAQjwe2e2xPmLJ6aTafOkcyS4xOzDZCs2ZCTHgR6aWzu1QAnPwZD \""
   ]
  },
  {
   "cell_type": "code",
   "execution_count": 14,
   "id": "cdfdc9d9",
   "metadata": {},
   "outputs": [
    {
     "name": "stdout",
     "output_type": "stream",
     "text": [
      "Defaulting to user installation because normal site-packages is not writeable\n",
      "Requirement already satisfied: facebook-sdk in c:\\users\\user\\appdata\\roaming\\python\\python39\\site-packages (3.1.0)\n",
      "Requirement already satisfied: requests in c:\\programdata\\anaconda3\\lib\\site-packages (from facebook-sdk) (2.28.1)\n",
      "Requirement already satisfied: idna<4,>=2.5 in c:\\programdata\\anaconda3\\lib\\site-packages (from requests->facebook-sdk) (3.3)\n",
      "Requirement already satisfied: certifi>=2017.4.17 in c:\\programdata\\anaconda3\\lib\\site-packages (from requests->facebook-sdk) (2022.9.14)\n",
      "Requirement already satisfied: urllib3<1.27,>=1.21.1 in c:\\programdata\\anaconda3\\lib\\site-packages (from requests->facebook-sdk) (1.26.11)\n",
      "Requirement already satisfied: charset-normalizer<3,>=2 in c:\\programdata\\anaconda3\\lib\\site-packages (from requests->facebook-sdk) (2.0.4)\n"
     ]
    }
   ],
   "source": [
    "!pip install facebook-sdk"
   ]
  },
  {
   "cell_type": "markdown",
   "id": "9ccc7f91",
   "metadata": {},
   "source": [
    "## step 2"
   ]
  },
  {
   "cell_type": "code",
   "execution_count": 15,
   "id": "a325953b",
   "metadata": {},
   "outputs": [],
   "source": [
    "import facebook\n",
    "import urllib3\n",
    "import requests\n",
    "import json"
   ]
  },
  {
   "cell_type": "markdown",
   "id": "dbda3e7c",
   "metadata": {},
   "source": [
    "## step 3"
   ]
  },
  {
   "cell_type": "code",
   "execution_count": 18,
   "id": "8d1a5b79",
   "metadata": {
    "scrolled": true
   },
   "outputs": [
    {
     "name": "stdout",
     "output_type": "stream",
     "text": [
      "{\n",
      " \"name\": \"Thenkuzhali S\",\n",
      " \"id\": \"101313633049844\"\n",
      "}\n"
     ]
    }
   ],
   "source": [
    "def pp(o):\n",
    "    print(json.dumps(o, indent=1))\n",
    "g=facebook.GraphAPI(ACCESS_TOKEN, version='2.10')\n",
    "pp(g.get_object('me'))"
   ]
  },
  {
   "cell_type": "markdown",
   "id": "2c7eebd6",
   "metadata": {},
   "source": [
    "## step 4: Get the user's connection names - likes, friends, feed, groups"
   ]
  },
  {
   "cell_type": "code",
   "execution_count": 27,
   "id": "f42d4782",
   "metadata": {
    "scrolled": true
   },
   "outputs": [
    {
     "name": "stdout",
     "output_type": "stream",
     "text": [
      "{\n",
      " \"data\": [\n",
      "  {\n",
      "   \"name\": \"Machine Learning Mastery\",\n",
      "   \"id\": \"1429846323896563\",\n",
      "   \"created_time\": \"2023-07-19T09:29:05+0000\"\n",
      "  }\n",
      " ],\n",
      " \"paging\": {\n",
      "  \"cursors\": {\n",
      "   \"before\": \"MTQyOTg0NjMyMzg5NjU2MwZDZD\",\n",
      "   \"after\": \"MTQyOTg0NjMyMzg5NjU2MwZDZD\"\n",
      "  }\n",
      " }\n",
      "}\n"
     ]
    }
   ],
   "source": [
    "pp(g.get_connections(id = 'me', connection_name='likes'))"
   ]
  },
  {
   "cell_type": "code",
   "execution_count": 25,
   "id": "b9461a7e",
   "metadata": {},
   "outputs": [
    {
     "name": "stdout",
     "output_type": "stream",
     "text": [
      "{\n",
      " \"data\": [],\n",
      " \"summary\": {\n",
      "  \"total_count\": 3\n",
      " }\n",
      "}\n"
     ]
    }
   ],
   "source": [
    "pp(g.get_connections(id = 'me', connection_name='friends'))"
   ]
  },
  {
   "cell_type": "code",
   "execution_count": 23,
   "id": "0a73d83b",
   "metadata": {},
   "outputs": [
    {
     "name": "stdout",
     "output_type": "stream",
     "text": [
      "{\n",
      " \"data\": [\n",
      "  {\n",
      "   \"created_time\": \"2023-07-19T09:17:48+0000\",\n",
      "   \"message\": \"Querying user\\u2019s connection information using Facebook Graph API and retrieving feed and engagement\",\n",
      "   \"id\": \"101313633049844_101384549709419\"\n",
      "  },\n",
      "  {\n",
      "   \"created_time\": \"2023-07-19T06:46:21+0000\",\n",
      "   \"id\": \"101313633049844_101299859717888\"\n",
      "  },\n",
      "  {\n",
      "   \"created_time\": \"2002-03-31T08:00:00+0000\",\n",
      "   \"id\": \"101313633049844_101295999718274\"\n",
      "  }\n",
      " ],\n",
      " \"paging\": {\n",
      "  \"previous\": \"https://graph.facebook.com/v17.0/101313633049844/feed?access_token=EAAIrmUmPQ18BAKZAduqkzVcOBMgCs8GnLbrYylMK2LPcBSYZBZCfhNy9n95ab3ToaA8QVSGvVYg41bF6PqTqsSDmlNwA3ESHoU7VXYVtefSEeoZBMP0bpv4ReSGUFzOMtLZCJ9LQH7VztTsS2a310bZBWZCER1XpWQdvV2ZBF6joVw9IXoEvZCT0QYnfL6hbMChfQfoBW67xsZA6iJE3kBtWVX1CfAt9MkTZBcF5MDugUqHwlankK7MeaNIZBFty4gnsFVwZD+&__previous=1&since=1689758268&until&__paging_token=enc_AdC574kkJPES4pZBs0yNZAFY9tTWKHpZAjbzGjwmOjKwh8Cpkr4g00zdkWL58KtY2gEs1QcmCS4xhI1aEZBkra7dhYwncZCeoecWGPIE3ZBy5UZBn645AZDZD\",\n",
      "  \"next\": \"https://graph.facebook.com/v17.0/101313633049844/feed?access_token=EAAIrmUmPQ18BAKZAduqkzVcOBMgCs8GnLbrYylMK2LPcBSYZBZCfhNy9n95ab3ToaA8QVSGvVYg41bF6PqTqsSDmlNwA3ESHoU7VXYVtefSEeoZBMP0bpv4ReSGUFzOMtLZCJ9LQH7VztTsS2a310bZBWZCER1XpWQdvV2ZBF6joVw9IXoEvZCT0QYnfL6hbMChfQfoBW67xsZA6iJE3kBtWVX1CfAt9MkTZBcF5MDugUqHwlankK7MeaNIZBFty4gnsFVwZD+&until=1017561600&since&__paging_token=enc_AdBUGNOgokBcPsZBjbYA3jQ8nH5UwGWjjCapsQysOBrmbDHgBFtRLGoy4j56sC04QTlKzfS1fu3hShLU6ZB2VqPQJDK0j37Bw7Gfe9Tan0aqIXYgZDZD&__previous\"\n",
      " }\n",
      "}\n"
     ]
    }
   ],
   "source": [
    "pp(g.get_connections(id = 'me', connection_name='feed'))"
   ]
  },
  {
   "cell_type": "code",
   "execution_count": 24,
   "id": "b2f5a26a",
   "metadata": {},
   "outputs": [
    {
     "name": "stdout",
     "output_type": "stream",
     "text": [
      "{\n",
      " \"data\": [\n",
      "  {\n",
      "   \"name\": \"Python Machine Learning\",\n",
      "   \"id\": \"699038760180241\"\n",
      "  },\n",
      "  {\n",
      "   \"name\": \"MACHINE LEARNING AND ARTIFICIAL INTELLIGENCE PROFESSIONALS GROUP\",\n",
      "   \"id\": \"197964893963666\"\n",
      "  },\n",
      "  {\n",
      "   \"name\": \"Artificial intelligence, Machine learning, Deep learning\",\n",
      "   \"id\": \"2059467967664033\"\n",
      "  }\n",
      " ],\n",
      " \"paging\": {\n",
      "  \"cursors\": {\n",
      "   \"before\": \"QVFIUjg1WmVya0wxZAXBnSTRMdnhZAWUhfZAk1LbGJEbFlVekRITVg2SkozM2lsSWE4eVYtRUpnMTVKejVMOEJVZAWZA2cm96X0ptOXBnanA5WFFobmE4c2ZAIa2hn\",\n",
      "   \"after\": \"QVFIUmFvalRzRVRTcVF1emNTRXc0UkxkMVBZAdFFCX2dhSWVOX0ZAKQmFoOUpaNVlWSmJWbUJtLVY4TWVMTlc5MEJBZAUo1VWtYV2hycGRuVE9XQUxzUkN3c29n\"\n",
      "  }\n",
      " }\n",
      "}\n"
     ]
    }
   ],
   "source": [
    "pp(g.get_connections(id = 'me', connection_name='groups'))"
   ]
  },
  {
   "cell_type": "markdown",
   "id": "ca89fee3",
   "metadata": {},
   "source": [
    "## step 5: Get information about a feed in your facebook post"
   ]
  },
  {
   "cell_type": "code",
   "execution_count": 30,
   "id": "3781514b",
   "metadata": {},
   "outputs": [
    {
     "name": "stdout",
     "output_type": "stream",
     "text": [
      "{\n",
      " \"data\": [\n",
      "  {\n",
      "   \"created_time\": \"2023-07-19T09:50:01+0000\",\n",
      "   \"message\": \"cute dog Shirley Shirley\",\n",
      "   \"id\": \"101313633049844_101400603041147\"\n",
      "  },\n",
      "  {\n",
      "   \"created_time\": \"2023-07-19T09:17:48+0000\",\n",
      "   \"message\": \"Querying user\\u2019s connection information using Facebook Graph API and retrieving feed and engagement\",\n",
      "   \"id\": \"101313633049844_101384549709419\"\n",
      "  },\n",
      "  {\n",
      "   \"created_time\": \"2023-07-19T06:46:21+0000\",\n",
      "   \"id\": \"101313633049844_101299859717888\"\n",
      "  },\n",
      "  {\n",
      "   \"created_time\": \"2002-03-31T08:00:00+0000\",\n",
      "   \"id\": \"101313633049844_101295999718274\"\n",
      "  }\n",
      " ],\n",
      " \"paging\": {\n",
      "  \"previous\": \"https://graph.facebook.com/v17.0/101313633049844/feed?access_token=EAAIrmUmPQ18BAKZAduqkzVcOBMgCs8GnLbrYylMK2LPcBSYZBZCfhNy9n95ab3ToaA8QVSGvVYg41bF6PqTqsSDmlNwA3ESHoU7VXYVtefSEeoZBMP0bpv4ReSGUFzOMtLZCJ9LQH7VztTsS2a310bZBWZCER1XpWQdvV2ZBF6joVw9IXoEvZCT0QYnfL6hbMChfQfoBW67xsZA6iJE3kBtWVX1CfAt9MkTZBcF5MDugUqHwlankK7MeaNIZBFty4gnsFVwZD+&__previous=1&since=1689760201&until&__paging_token=enc_AdA6IZByKUG8ZAuovVsmvqqWrSswcxMLrGlULdO0MaUZAEQfpVqyY4ZCtvA3sezObxE49udWQZCUlk2CitlRdWDxlCUvT5isazjT70a4Ko7vBuuuhgQZDZD\",\n",
      "  \"next\": \"https://graph.facebook.com/v17.0/101313633049844/feed?access_token=EAAIrmUmPQ18BAKZAduqkzVcOBMgCs8GnLbrYylMK2LPcBSYZBZCfhNy9n95ab3ToaA8QVSGvVYg41bF6PqTqsSDmlNwA3ESHoU7VXYVtefSEeoZBMP0bpv4ReSGUFzOMtLZCJ9LQH7VztTsS2a310bZBWZCER1XpWQdvV2ZBF6joVw9IXoEvZCT0QYnfL6hbMChfQfoBW67xsZA6iJE3kBtWVX1CfAt9MkTZBcF5MDugUqHwlankK7MeaNIZBFty4gnsFVwZD+&until=1017561600&since&__paging_token=enc_AdBUGNOgokBcPsZBjbYA3jQ8nH5UwGWjjCapsQysOBrmbDHgBFtRLGoy4j56sC04QTlKzfS1fu3hShLU6ZB2VqPQJDK0j37Bw7Gfe9Tan0aqIXYgZDZD&__previous\"\n",
      " }\n",
      "}\n"
     ]
    }
   ],
   "source": [
    "pp(g.get_connections(id = 'me', connection_name='feed'))"
   ]
  },
  {
   "cell_type": "markdown",
   "id": "c32fabc7",
   "metadata": {},
   "source": [
    "## step 6: Get the metric towards engagement of connections towards your Facebook "
   ]
  },
  {
   "cell_type": "code",
   "execution_count": 35,
   "id": "3e9612f5",
   "metadata": {},
   "outputs": [
    {
     "name": "stdout",
     "output_type": "stream",
     "text": [
      "{\n",
      " \"data\": [\n",
      "  {\n",
      "   \"created_time\": \"2023-07-19T09:50:01+0000\",\n",
      "   \"message\": \"cute dog Shirley Shirley\",\n",
      "   \"id\": \"101313633049844_101400603041147\"\n",
      "  },\n",
      "  {\n",
      "   \"created_time\": \"2023-07-19T09:17:48+0000\",\n",
      "   \"message\": \"Querying user\\u2019s connection information using Facebook Graph API and retrieving feed and engagement\",\n",
      "   \"id\": \"101313633049844_101384549709419\"\n",
      "  },\n",
      "  {\n",
      "   \"created_time\": \"2023-07-19T06:46:21+0000\",\n",
      "   \"id\": \"101313633049844_101299859717888\"\n",
      "  },\n",
      "  {\n",
      "   \"created_time\": \"2002-03-31T08:00:00+0000\",\n",
      "   \"id\": \"101313633049844_101295999718274\"\n",
      "  }\n",
      " ],\n",
      " \"paging\": {\n",
      "  \"previous\": \"https://graph.facebook.com/v17.0/101313633049844/posts?access_token=EAAIrmUmPQ18BAKZAduqkzVcOBMgCs8GnLbrYylMK2LPcBSYZBZCfhNy9n95ab3ToaA8QVSGvVYg41bF6PqTqsSDmlNwA3ESHoU7VXYVtefSEeoZBMP0bpv4ReSGUFzOMtLZCJ9LQH7VztTsS2a310bZBWZCER1XpWQdvV2ZBF6joVw9IXoEvZCT0QYnfL6hbMChfQfoBW67xsZA6iJE3kBtWVX1CfAt9MkTZBcF5MDugUqHwlankK7MeaNIZBFty4gnsFVwZD+&__previous=1&since=1689760201&until&__paging_token=enc_AdA6IZByKUG8ZAuovVsmvqqWrSswcxMLrGlULdO0MaUZAEQfpVqyY4ZCtvA3sezObxE49udWQZCUlk2CitlRdWDxlCUvT5isazjT70a4Ko7vBuuuhgQZDZD\",\n",
      "  \"next\": \"https://graph.facebook.com/v17.0/101313633049844/posts?access_token=EAAIrmUmPQ18BAKZAduqkzVcOBMgCs8GnLbrYylMK2LPcBSYZBZCfhNy9n95ab3ToaA8QVSGvVYg41bF6PqTqsSDmlNwA3ESHoU7VXYVtefSEeoZBMP0bpv4ReSGUFzOMtLZCJ9LQH7VztTsS2a310bZBWZCER1XpWQdvV2ZBF6joVw9IXoEvZCT0QYnfL6hbMChfQfoBW67xsZA6iJE3kBtWVX1CfAt9MkTZBcF5MDugUqHwlankK7MeaNIZBFty4gnsFVwZD+&until=1017561600&since&__paging_token=enc_AdBUGNOgokBcPsZBjbYA3jQ8nH5UwGWjjCapsQysOBrmbDHgBFtRLGoy4j56sC04QTlKzfS1fu3hShLU6ZB2VqPQJDK0j37Bw7Gfe9Tan0aqIXYgZDZD&__previous\"\n",
      " }\n",
      "}\n"
     ]
    }
   ],
   "source": [
    "pp(g.get_connections(id = 'me', connection_name='posts'))"
   ]
  },
  {
   "cell_type": "code",
   "execution_count": null,
   "id": "a8efd037",
   "metadata": {},
   "outputs": [],
   "source": []
  }
 ],
 "metadata": {
  "kernelspec": {
   "display_name": "Python 3 (ipykernel)",
   "language": "python",
   "name": "python3"
  },
  "language_info": {
   "codemirror_mode": {
    "name": "ipython",
    "version": 3
   },
   "file_extension": ".py",
   "mimetype": "text/x-python",
   "name": "python",
   "nbconvert_exporter": "python",
   "pygments_lexer": "ipython3",
   "version": "3.9.12"
  }
 },
 "nbformat": 4,
 "nbformat_minor": 5
}
